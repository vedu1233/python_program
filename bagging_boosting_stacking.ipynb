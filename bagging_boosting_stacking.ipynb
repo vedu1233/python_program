{
 "cells": [
  {
   "cell_type": "markdown",
   "id": "b81586b5-d453-4c7a-8451-754f5c38fc67",
   "metadata": {},
   "source": [
    "# bagging"
   ]
  },
  {
   "cell_type": "code",
   "execution_count": 1,
   "id": "6bda8ff4-b847-4b53-8d66-0973f9ef15f7",
   "metadata": {},
   "outputs": [],
   "source": [
    "from pandas import read_csv\n",
    "from sklearn.model_selection import KFold\n",
    "from sklearn.model_selection import cross_val_score\n",
    "from sklearn.ensemble import BaggingClassifier\n",
    "from sklearn.tree import DecisionTreeClassifier"
   ]
  },
  {
   "cell_type": "code",
   "execution_count": 4,
   "id": "b6667705-cb8c-4d24-892f-3c657492a230",
   "metadata": {},
   "outputs": [],
   "source": [
    "filename = \"pima-indians-diabetes.data.csv\"\n",
    "names =['preg','plass','pres','skin','test','mass','pedi','age','class']\n",
    "data = read_csv(filename,names=names)\n"
   ]
  },
  {
   "cell_type": "code",
   "execution_count": 5,
   "id": "c2e0b556-555e-4592-ab02-37a9efdd2662",
   "metadata": {},
   "outputs": [
    {
     "data": {
      "text/html": [
       "<div>\n",
       "<style scoped>\n",
       "    .dataframe tbody tr th:only-of-type {\n",
       "        vertical-align: middle;\n",
       "    }\n",
       "\n",
       "    .dataframe tbody tr th {\n",
       "        vertical-align: top;\n",
       "    }\n",
       "\n",
       "    .dataframe thead th {\n",
       "        text-align: right;\n",
       "    }\n",
       "</style>\n",
       "<table border=\"1\" class=\"dataframe\">\n",
       "  <thead>\n",
       "    <tr style=\"text-align: right;\">\n",
       "      <th></th>\n",
       "      <th>preg</th>\n",
       "      <th>plass</th>\n",
       "      <th>pres</th>\n",
       "      <th>skin</th>\n",
       "      <th>test</th>\n",
       "      <th>mass</th>\n",
       "      <th>pedi</th>\n",
       "      <th>age</th>\n",
       "      <th>class</th>\n",
       "    </tr>\n",
       "  </thead>\n",
       "  <tbody>\n",
       "    <tr>\n",
       "      <th>0</th>\n",
       "      <td>6</td>\n",
       "      <td>148</td>\n",
       "      <td>72</td>\n",
       "      <td>35</td>\n",
       "      <td>0</td>\n",
       "      <td>33.6</td>\n",
       "      <td>0.627</td>\n",
       "      <td>50</td>\n",
       "      <td>1</td>\n",
       "    </tr>\n",
       "    <tr>\n",
       "      <th>1</th>\n",
       "      <td>1</td>\n",
       "      <td>85</td>\n",
       "      <td>66</td>\n",
       "      <td>29</td>\n",
       "      <td>0</td>\n",
       "      <td>26.6</td>\n",
       "      <td>0.351</td>\n",
       "      <td>31</td>\n",
       "      <td>0</td>\n",
       "    </tr>\n",
       "    <tr>\n",
       "      <th>2</th>\n",
       "      <td>8</td>\n",
       "      <td>183</td>\n",
       "      <td>64</td>\n",
       "      <td>0</td>\n",
       "      <td>0</td>\n",
       "      <td>23.3</td>\n",
       "      <td>0.672</td>\n",
       "      <td>32</td>\n",
       "      <td>1</td>\n",
       "    </tr>\n",
       "    <tr>\n",
       "      <th>3</th>\n",
       "      <td>1</td>\n",
       "      <td>89</td>\n",
       "      <td>66</td>\n",
       "      <td>23</td>\n",
       "      <td>94</td>\n",
       "      <td>28.1</td>\n",
       "      <td>0.167</td>\n",
       "      <td>21</td>\n",
       "      <td>0</td>\n",
       "    </tr>\n",
       "    <tr>\n",
       "      <th>4</th>\n",
       "      <td>0</td>\n",
       "      <td>137</td>\n",
       "      <td>40</td>\n",
       "      <td>35</td>\n",
       "      <td>168</td>\n",
       "      <td>43.1</td>\n",
       "      <td>2.288</td>\n",
       "      <td>33</td>\n",
       "      <td>1</td>\n",
       "    </tr>\n",
       "    <tr>\n",
       "      <th>...</th>\n",
       "      <td>...</td>\n",
       "      <td>...</td>\n",
       "      <td>...</td>\n",
       "      <td>...</td>\n",
       "      <td>...</td>\n",
       "      <td>...</td>\n",
       "      <td>...</td>\n",
       "      <td>...</td>\n",
       "      <td>...</td>\n",
       "    </tr>\n",
       "    <tr>\n",
       "      <th>763</th>\n",
       "      <td>10</td>\n",
       "      <td>101</td>\n",
       "      <td>76</td>\n",
       "      <td>48</td>\n",
       "      <td>180</td>\n",
       "      <td>32.9</td>\n",
       "      <td>0.171</td>\n",
       "      <td>63</td>\n",
       "      <td>0</td>\n",
       "    </tr>\n",
       "    <tr>\n",
       "      <th>764</th>\n",
       "      <td>2</td>\n",
       "      <td>122</td>\n",
       "      <td>70</td>\n",
       "      <td>27</td>\n",
       "      <td>0</td>\n",
       "      <td>36.8</td>\n",
       "      <td>0.340</td>\n",
       "      <td>27</td>\n",
       "      <td>0</td>\n",
       "    </tr>\n",
       "    <tr>\n",
       "      <th>765</th>\n",
       "      <td>5</td>\n",
       "      <td>121</td>\n",
       "      <td>72</td>\n",
       "      <td>23</td>\n",
       "      <td>112</td>\n",
       "      <td>26.2</td>\n",
       "      <td>0.245</td>\n",
       "      <td>30</td>\n",
       "      <td>0</td>\n",
       "    </tr>\n",
       "    <tr>\n",
       "      <th>766</th>\n",
       "      <td>1</td>\n",
       "      <td>126</td>\n",
       "      <td>60</td>\n",
       "      <td>0</td>\n",
       "      <td>0</td>\n",
       "      <td>30.1</td>\n",
       "      <td>0.349</td>\n",
       "      <td>47</td>\n",
       "      <td>1</td>\n",
       "    </tr>\n",
       "    <tr>\n",
       "      <th>767</th>\n",
       "      <td>1</td>\n",
       "      <td>93</td>\n",
       "      <td>70</td>\n",
       "      <td>31</td>\n",
       "      <td>0</td>\n",
       "      <td>30.4</td>\n",
       "      <td>0.315</td>\n",
       "      <td>23</td>\n",
       "      <td>0</td>\n",
       "    </tr>\n",
       "  </tbody>\n",
       "</table>\n",
       "<p>768 rows × 9 columns</p>\n",
       "</div>"
      ],
      "text/plain": [
       "     preg  plass  pres  skin  test  mass   pedi  age  class\n",
       "0       6    148    72    35     0  33.6  0.627   50      1\n",
       "1       1     85    66    29     0  26.6  0.351   31      0\n",
       "2       8    183    64     0     0  23.3  0.672   32      1\n",
       "3       1     89    66    23    94  28.1  0.167   21      0\n",
       "4       0    137    40    35   168  43.1  2.288   33      1\n",
       "..    ...    ...   ...   ...   ...   ...    ...  ...    ...\n",
       "763    10    101    76    48   180  32.9  0.171   63      0\n",
       "764     2    122    70    27     0  36.8  0.340   27      0\n",
       "765     5    121    72    23   112  26.2  0.245   30      0\n",
       "766     1    126    60     0     0  30.1  0.349   47      1\n",
       "767     1     93    70    31     0  30.4  0.315   23      0\n",
       "\n",
       "[768 rows x 9 columns]"
      ]
     },
     "execution_count": 5,
     "metadata": {},
     "output_type": "execute_result"
    }
   ],
   "source": [
    "data"
   ]
  },
  {
   "cell_type": "code",
   "execution_count": 8,
   "id": "246ae878-59fb-4afa-a301-1e8b2af13110",
   "metadata": {},
   "outputs": [],
   "source": [
    "x = data.iloc[:,0:8]\n",
    "y = data.iloc[:,8]\n",
    "seed =7"
   ]
  },
  {
   "cell_type": "code",
   "execution_count": 9,
   "id": "d2ec6ab6-892a-4623-b25e-cd669bc72429",
   "metadata": {},
   "outputs": [],
   "source": [
    "kfold = KFold(n_splits =10)\n",
    "cart = DecisionTreeClassifier()\n",
    "num_trees = 100\n",
    "model = BaggingClassifier(estimator=cart,n_estimators=num_trees,random_state =seed)\n",
    "result =cross_val_score(model,x,y,cv =kfold)"
   ]
  },
  {
   "cell_type": "code",
   "execution_count": 14,
   "id": "33ff2151-38f9-4f35-9efe-dfd0353f2be9",
   "metadata": {},
   "outputs": [
    {
     "data": {
      "text/plain": [
       "array([0.66233766, 0.84415584, 0.75324675, 0.64935065, 0.83116883,\n",
       "       0.83116883, 0.83116883, 0.84415584, 0.68421053, 0.78947368])"
      ]
     },
     "execution_count": 14,
     "metadata": {},
     "output_type": "execute_result"
    }
   ],
   "source": [
    "result"
   ]
  },
  {
   "cell_type": "code",
   "execution_count": 13,
   "id": "eb2baac0-08cd-46d8-990b-6e95c606dc4c",
   "metadata": {},
   "outputs": [
    {
     "name": "stdout",
     "output_type": "stream",
     "text": [
      "0.7720437457279563\n"
     ]
    }
   ],
   "source": [
    "print(result.mean())"
   ]
  },
  {
   "cell_type": "markdown",
   "id": "0522bdba-7f4a-4d5a-8cd0-1c1703ccea3c",
   "metadata": {},
   "source": [
    "# random forest algorithm"
   ]
  },
  {
   "cell_type": "code",
   "execution_count": 15,
   "id": "a494bc31-0d60-4dfb-bef7-117e5149b8f9",
   "metadata": {},
   "outputs": [],
   "source": [
    "from pandas import read_csv\n",
    "from sklearn.ensemble import RandomForestClassifier"
   ]
  },
  {
   "cell_type": "code",
   "execution_count": 17,
   "id": "6032c388-6e79-4ed2-8556-161372513e32",
   "metadata": {},
   "outputs": [],
   "source": [
    "num_trees =100\n",
    "max_features = 3 # total number of feature that you have to pass to the random forest\n",
    "kfold =KFold(n_splits =10)\n"
   ]
  },
  {
   "cell_type": "code",
   "execution_count": 18,
   "id": "3af51b3e-0cf0-46b0-a3df-fd0427686392",
   "metadata": {},
   "outputs": [],
   "source": [
    "model = RandomForestClassifier(n_estimators =num_trees,max_features =max_features)\n",
    "results =cross_val_score(model,x,y, cv =kfold)"
   ]
  },
  {
   "cell_type": "code",
   "execution_count": 19,
   "id": "4ae55f7a-6c69-4fda-a61e-b722ca5cb2d2",
   "metadata": {},
   "outputs": [
    {
     "data": {
      "text/plain": [
       "array([0.67532468, 0.81818182, 0.72727273, 0.64935065, 0.80519481,\n",
       "       0.80519481, 0.84415584, 0.84415584, 0.73684211, 0.77631579])"
      ]
     },
     "execution_count": 19,
     "metadata": {},
     "output_type": "execute_result"
    }
   ],
   "source": [
    "results"
   ]
  },
  {
   "cell_type": "code",
   "execution_count": 24,
   "id": "475db914-f1a3-4348-a39b-05af960e1848",
   "metadata": {},
   "outputs": [
    {
     "name": "stdout",
     "output_type": "stream",
     "text": [
      "0.7720437457279563\n"
     ]
    }
   ],
   "source": [
    "print(result.mean())"
   ]
  },
  {
   "cell_type": "markdown",
   "id": "28bc8cd9-82eb-4f7c-ac92-90d48343d7d9",
   "metadata": {},
   "source": [
    "# ada boost classifier"
   ]
  },
  {
   "cell_type": "code",
   "execution_count": 27,
   "id": "496e4d8e-f144-4414-988b-0500ffb253c3",
   "metadata": {},
   "outputs": [],
   "source": [
    "from sklearn.ensemble import AdaBoostClassifier\n",
    "import warnings \n",
    "warnings.filterwarnings('ignore')"
   ]
  },
  {
   "cell_type": "code",
   "execution_count": 23,
   "id": "34b022b0-0949-4d86-8379-fec05c926d56",
   "metadata": {},
   "outputs": [],
   "source": [
    "num_tress = 10\n",
    "seed =7"
   ]
  },
  {
   "cell_type": "code",
   "execution_count": 28,
   "id": "de853a83-4ebf-4d49-a4d0-d46d74cb30db",
   "metadata": {},
   "outputs": [],
   "source": [
    "kfold = KFold(n_splits =10,random_state =7,shuffle = True)\n",
    "num_trees =10\n",
    "model = AdaBoostClassifier(n_estimators =num_trees,random_state =seed)\n",
    "results = cross_val_score(model,x,y,cv =kfold)"
   ]
  },
  {
   "cell_type": "code",
   "execution_count": 26,
   "id": "d82bab0e-5a03-4d66-9bd1-f2820d764504",
   "metadata": {},
   "outputs": [
    {
     "data": {
      "text/plain": [
       "array([0.80519481, 0.74025974, 0.67532468, 0.81818182, 0.80519481,\n",
       "       0.79220779, 0.71428571, 0.75324675, 0.78947368, 0.77631579])"
      ]
     },
     "execution_count": 26,
     "metadata": {},
     "output_type": "execute_result"
    }
   ],
   "source": [
    "results"
   ]
  },
  {
   "cell_type": "code",
   "execution_count": 29,
   "id": "44505547-43ab-420c-8ad6-0d715ba9c062",
   "metadata": {},
   "outputs": [
    {
     "name": "stdout",
     "output_type": "stream",
     "text": [
      "0.7720437457279563\n"
     ]
    }
   ],
   "source": [
    "print(result.mean())"
   ]
  },
  {
   "cell_type": "markdown",
   "id": "ab0c7371-03be-4b57-b473-9db6bc5fe1a6",
   "metadata": {},
   "source": [
    "# stacking classifier"
   ]
  },
  {
   "cell_type": "code",
   "execution_count": 32,
   "id": "85bbaec0-9b66-4b7f-a1dc-99443566cf27",
   "metadata": {},
   "outputs": [],
   "source": [
    "from sklearn.linear_model import LogisticRegression\n",
    "from sklearn.tree import DecisionTreeClassifier\n",
    "from sklearn.svm import SVC # support vector classifier \n",
    "from sklearn.ensemble import VotingClassifier\n"
   ]
  },
  {
   "cell_type": "code",
   "execution_count": 42,
   "id": "ef8fe0ed-eb9d-4cae-9386-3814ef40fa6a",
   "metadata": {},
   "outputs": [],
   "source": [
    "list1 = [] # create a empty list of estimators"
   ]
  },
  {
   "cell_type": "code",
   "execution_count": 43,
   "id": "d529c6b8-e9e0-4401-9c40-b593af09ba73",
   "metadata": {},
   "outputs": [],
   "source": [
    "model1 = LogisticRegression(max_iter =500)\n",
    "list1.append(('logistic',model1))\n",
    "\n",
    "model2 = DecisionTreeClassifier()\n",
    "list1.append(('cart',model2))\n",
    "\n",
    "model3 = SVC()\n",
    "list1.append(('svc',model3))\n",
    "\n",
    "# create a new ensemble model \n",
    "ensemble = VotingClassifier(list1)\n",
    "results  = cross_val_score(ensemble,x,y,cv =kfold)"
   ]
  },
  {
   "cell_type": "code",
   "execution_count": 39,
   "id": "5546f5fd-4eb5-4c45-a228-d461b8795d72",
   "metadata": {},
   "outputs": [
    {
     "data": {
      "text/plain": [
       "[('logistic', LogisticRegression(max_iter=500)),\n",
       " ('cart', DecisionTreeClassifier()),\n",
       " ('svc', SVC())]"
      ]
     },
     "execution_count": 39,
     "metadata": {},
     "output_type": "execute_result"
    }
   ],
   "source": [
    "estimators"
   ]
  },
  {
   "cell_type": "code",
   "execution_count": 44,
   "id": "83ce8824-e5a1-4311-b983-186569ecf46c",
   "metadata": {},
   "outputs": [
    {
     "data": {
      "text/plain": [
       "array([0.84415584, 0.75324675, 0.74025974, 0.80519481, 0.79220779,\n",
       "       0.77922078, 0.63636364, 0.79220779, 0.80263158, 0.76315789])"
      ]
     },
     "execution_count": 44,
     "metadata": {},
     "output_type": "execute_result"
    }
   ],
   "source": [
    "results"
   ]
  },
  {
   "cell_type": "code",
   "execution_count": 45,
   "id": "5301cd74-9b2c-417b-b826-916e514cd7d1",
   "metadata": {},
   "outputs": [
    {
     "name": "stdout",
     "output_type": "stream",
     "text": [
      "0.7708646616541353\n"
     ]
    }
   ],
   "source": [
    "print(results.mean())"
   ]
  },
  {
   "cell_type": "code",
   "execution_count": null,
   "id": "41d39563-c831-4404-b7ea-cdff9256b84e",
   "metadata": {},
   "outputs": [],
   "source": []
  }
 ],
 "metadata": {
  "kernelspec": {
   "display_name": "Python 3 (ipykernel)",
   "language": "python",
   "name": "python3"
  },
  "language_info": {
   "codemirror_mode": {
    "name": "ipython",
    "version": 3
   },
   "file_extension": ".py",
   "mimetype": "text/x-python",
   "name": "python",
   "nbconvert_exporter": "python",
   "pygments_lexer": "ipython3",
   "version": "3.12.4"
  }
 },
 "nbformat": 4,
 "nbformat_minor": 5
}
