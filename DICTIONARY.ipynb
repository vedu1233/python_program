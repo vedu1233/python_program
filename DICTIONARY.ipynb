{
 "cells": [
  {
   "cell_type": "code",
   "execution_count": 1,
   "id": "a0e534bf-150b-4365-8b69-1b7d3166a7c4",
   "metadata": {},
   "outputs": [],
   "source": [
    "# dictionary in python\n",
    "# dictionary are immutable in python \n",
    "# dictionary can stored various type of data like list "
   ]
  },
  {
   "cell_type": "code",
   "execution_count": null,
   "id": "160acbdf-fb2b-4318-a4a5-56742a430496",
   "metadata": {},
   "outputs": [],
   "source": []
  },
  {
   "cell_type": "code",
   "execution_count": 5,
   "id": "4baee737-f9f9-407f-8055-55fcec5893f4",
   "metadata": {},
   "outputs": [],
   "source": [
    "s1 ={\"name1\":\"vedant\",\"name2\":\"sharvari\",\"name3\":\"shravani\",\"name4\":\"rocky\"}\n"
   ]
  },
  {
   "cell_type": "code",
   "execution_count": 35,
   "id": "01eba284-a6b5-409a-8b04-ee644de65cb8",
   "metadata": {},
   "outputs": [
    {
     "data": {
      "text/plain": [
       "['name1', 'name2', 'name3', 'name4', 'name8', 'g', 'j']"
      ]
     },
     "execution_count": 35,
     "metadata": {},
     "output_type": "execute_result"
    }
   ],
   "source": [
    "new =list(s1)\n",
    "\n",
    "new"
   ]
  },
  {
   "cell_type": "code",
   "execution_count": 5,
   "id": "a6ebb190-e51c-4700-8f77-a0ce203a1f91",
   "metadata": {},
   "outputs": [
    {
     "data": {
      "text/plain": [
       "dict_values(['vedant', 'sharvari', 'shravani', 'rocky'])"
      ]
     },
     "execution_count": 5,
     "metadata": {},
     "output_type": "execute_result"
    }
   ],
   "source": [
    "s1.values()"
   ]
  },
  {
   "cell_type": "code",
   "execution_count": 7,
   "id": "48d3dd3c-5d01-4b36-98dd-6f9a7a2a81cd",
   "metadata": {},
   "outputs": [
    {
     "data": {
      "text/plain": [
       "dict_keys(['name1', 'name2', 'name3', 'name4'])"
      ]
     },
     "execution_count": 7,
     "metadata": {},
     "output_type": "execute_result"
    }
   ],
   "source": [
    "s1.keys()"
   ]
  },
  {
   "cell_type": "code",
   "execution_count": 9,
   "id": "b68f884d-bc19-457a-9fd0-182b7f57bb8d",
   "metadata": {},
   "outputs": [
    {
     "data": {
      "text/plain": [
       "['__class__',\n",
       " '__class_getitem__',\n",
       " '__contains__',\n",
       " '__delattr__',\n",
       " '__delitem__',\n",
       " '__dir__',\n",
       " '__doc__',\n",
       " '__eq__',\n",
       " '__format__',\n",
       " '__ge__',\n",
       " '__getattribute__',\n",
       " '__getitem__',\n",
       " '__getstate__',\n",
       " '__gt__',\n",
       " '__hash__',\n",
       " '__init__',\n",
       " '__init_subclass__',\n",
       " '__ior__',\n",
       " '__iter__',\n",
       " '__le__',\n",
       " '__len__',\n",
       " '__lt__',\n",
       " '__ne__',\n",
       " '__new__',\n",
       " '__or__',\n",
       " '__reduce__',\n",
       " '__reduce_ex__',\n",
       " '__repr__',\n",
       " '__reversed__',\n",
       " '__ror__',\n",
       " '__setattr__',\n",
       " '__setitem__',\n",
       " '__sizeof__',\n",
       " '__str__',\n",
       " '__subclasshook__',\n",
       " 'clear',\n",
       " 'copy',\n",
       " 'fromkeys',\n",
       " 'get',\n",
       " 'items',\n",
       " 'keys',\n",
       " 'pop',\n",
       " 'popitem',\n",
       " 'setdefault',\n",
       " 'update',\n",
       " 'values']"
      ]
     },
     "execution_count": 9,
     "metadata": {},
     "output_type": "execute_result"
    }
   ],
   "source": [
    "dir(s1)"
   ]
  },
  {
   "cell_type": "code",
   "execution_count": 21,
   "id": "26461b1a-84d0-4786-8113-64ba0c8b8b80",
   "metadata": {},
   "outputs": [
    {
     "data": {
      "text/plain": [
       "dict"
      ]
     },
     "execution_count": 21,
     "metadata": {},
     "output_type": "execute_result"
    }
   ],
   "source": [
    "type(s1)\n"
   ]
  },
  {
   "cell_type": "code",
   "execution_count": 1,
   "id": "7952baf0-18e5-47c2-b0eb-a0a9f27feda9",
   "metadata": {},
   "outputs": [],
   "source": [
    "new_dict ={\"name4\":\"vedant\",\"name8\":\"rahul\"}"
   ]
  },
  {
   "cell_type": "code",
   "execution_count": 7,
   "id": "aae2a620-cb97-4ffc-a84d-990c1f9748ad",
   "metadata": {},
   "outputs": [],
   "source": [
    "s1.update(new_dict)"
   ]
  },
  {
   "cell_type": "code",
   "execution_count": 9,
   "id": "dc3abac3-afb6-4740-b946-3f8a1bd9593c",
   "metadata": {},
   "outputs": [
    {
     "data": {
      "text/plain": [
       "{'name1': 'vedant',\n",
       " 'name2': 'sharvari',\n",
       " 'name3': 'shravani',\n",
       " 'name4': 'vedant',\n",
       " 'name8': 'rahul'}"
      ]
     },
     "execution_count": 9,
     "metadata": {},
     "output_type": "execute_result"
    }
   ],
   "source": [
    "s1"
   ]
  },
  {
   "cell_type": "code",
   "execution_count": 11,
   "id": "3924cf3c-f9fd-4d39-b3b1-6ac4a024b3ad",
   "metadata": {},
   "outputs": [],
   "source": [
    "s1.update({\"g\":\"h\",\"j\":\"f\"})"
   ]
  },
  {
   "cell_type": "code",
   "execution_count": 13,
   "id": "e2a4f26b-9f10-433f-a140-841ba93ca1af",
   "metadata": {},
   "outputs": [
    {
     "data": {
      "text/plain": [
       "{'name1': 'vedant',\n",
       " 'name2': 'sharvari',\n",
       " 'name3': 'shravani',\n",
       " 'name4': 'vedant',\n",
       " 'name8': 'rahul',\n",
       " 'g': 'h',\n",
       " 'j': 'f'}"
      ]
     },
     "execution_count": 13,
     "metadata": {},
     "output_type": "execute_result"
    }
   ],
   "source": [
    "s1"
   ]
  },
  {
   "cell_type": "code",
   "execution_count": 15,
   "id": "8177b3a5-a1a2-4207-b3ca-e920fa1793f2",
   "metadata": {},
   "outputs": [],
   "source": [
    "# we can convert dictonary into list as wellas tuple into list"
   ]
  },
  {
   "cell_type": "code",
   "execution_count": 23,
   "id": "a255cb40-0f7c-4b62-a3da-fad5a2906718",
   "metadata": {},
   "outputs": [],
   "source": [
    "update_dict =list(new_dict)"
   ]
  },
  {
   "cell_type": "code",
   "execution_count": 27,
   "id": "9c580338-81fa-4f77-ad92-57a9b9672222",
   "metadata": {},
   "outputs": [
    {
     "data": {
      "text/plain": [
       "['name4', 'name8']"
      ]
     },
     "execution_count": 27,
     "metadata": {},
     "output_type": "execute_result"
    }
   ],
   "source": [
    "update_dict"
   ]
  },
  {
   "cell_type": "code",
   "execution_count": 45,
   "id": "8438372b-ac44-46f0-970d-d3f3f73c64d2",
   "metadata": {},
   "outputs": [],
   "source": [
    "lst =[12,15,15,14,13]"
   ]
  },
  {
   "cell_type": "code",
   "execution_count": 47,
   "id": "f39fce6b-19d2-4acd-b17b-2098013fb238",
   "metadata": {},
   "outputs": [],
   "source": [
    "my_tup =(\"vedant\",\"shravani\",\"sharvari\")"
   ]
  },
  {
   "cell_type": "code",
   "execution_count": 37,
   "id": "7a954bac-16c5-4763-9c25-823a2d52edfe",
   "metadata": {},
   "outputs": [],
   "source": [
    "# we can put the list tuple as well as list in same dictionary"
   ]
  },
  {
   "cell_type": "code",
   "execution_count": 49,
   "id": "5e1524df-9027-42f6-a115-40276cdbacd1",
   "metadata": {},
   "outputs": [],
   "source": [
    "s2 ={\"new\":s1,\"new2\":lst,\"new3\":my_tup}\n",
    "    "
   ]
  },
  {
   "cell_type": "code",
   "execution_count": 51,
   "id": "61855b49-b444-4101-b886-767a50548aaa",
   "metadata": {},
   "outputs": [
    {
     "data": {
      "text/plain": [
       "{'new': {'name1': 'vedant',\n",
       "  'name2': 'sharvari',\n",
       "  'name3': 'shravani',\n",
       "  'name4': 'vedant',\n",
       "  'name8': 'rahul',\n",
       "  'g': 'h',\n",
       "  'j': 'f'},\n",
       " 'new2': [12, 15, 15, 14, 13],\n",
       " 'new3': ('vedant', 'shravani', 'sharvari')}"
      ]
     },
     "execution_count": 51,
     "metadata": {},
     "output_type": "execute_result"
    }
   ],
   "source": [
    "s2"
   ]
  },
  {
   "cell_type": "code",
   "execution_count": 53,
   "id": "34ddd7d8-1dd7-452e-8b72-8d2b84a00903",
   "metadata": {},
   "outputs": [
    {
     "data": {
      "text/plain": [
       "'vedant'"
      ]
     },
     "execution_count": 53,
     "metadata": {},
     "output_type": "execute_result"
    }
   ],
   "source": [
    "s2[\"new\"][\"name1\"]"
   ]
  },
  {
   "cell_type": "code",
   "execution_count": 59,
   "id": "d8e16b5f-da35-4f1a-881f-a51539c419e0",
   "metadata": {},
   "outputs": [
    {
     "data": {
      "text/plain": [
       "[12, 15, 15, 14, 13]"
      ]
     },
     "execution_count": 59,
     "metadata": {},
     "output_type": "execute_result"
    }
   ],
   "source": [
    "s2[\"new2\"][0:5]"
   ]
  },
  {
   "cell_type": "code",
   "execution_count": 61,
   "id": "1d294ad8-43ab-4349-9297-72ba97262244",
   "metadata": {},
   "outputs": [
    {
     "data": {
      "text/plain": [
       "'shravani'"
      ]
     },
     "execution_count": 61,
     "metadata": {},
     "output_type": "execute_result"
    }
   ],
   "source": [
    "s2[\"new3\"][1]"
   ]
  },
  {
   "cell_type": "code",
   "execution_count": 65,
   "id": "f594f004-f070-4c31-bc0a-be8cd53febdc",
   "metadata": {},
   "outputs": [
    {
     "data": {
      "text/plain": [
       "('vedant', 'shravani', 'sharvari')"
      ]
     },
     "execution_count": 65,
     "metadata": {},
     "output_type": "execute_result"
    }
   ],
   "source": [
    "s2[\"new3\"][0:3]"
   ]
  },
  {
   "cell_type": "code",
   "execution_count": 1,
   "id": "95cf25b8-6bc5-4b87-beee-522074f87460",
   "metadata": {},
   "outputs": [],
   "source": [
    "marks ={\"vedant\":18,\"arman\":15,\"sahil\":18\n",
    "       }"
   ]
  },
  {
   "cell_type": "code",
   "execution_count": 5,
   "id": "1dca7781-5545-4048-bbdc-011663860fcf",
   "metadata": {},
   "outputs": [],
   "source": [
    "id ={\"stud1\":1,\"stud2\":2,\"stud3\":3}"
   ]
  },
  {
   "cell_type": "code",
   "execution_count": 13,
   "id": "cf533114-a119-425a-9826-96ffb3488e93",
   "metadata": {},
   "outputs": [],
   "source": [
    "s1=marks.update(id)"
   ]
  },
  {
   "cell_type": "code",
   "execution_count": 15,
   "id": "ebdcbe49-6ca4-401d-ad3e-2e11435365d7",
   "metadata": {},
   "outputs": [],
   "source": [
    "s1"
   ]
  },
  {
   "cell_type": "code",
   "execution_count": 17,
   "id": "016e484c-88f8-4ae8-ac51-3d3a6b28029b",
   "metadata": {},
   "outputs": [
    {
     "data": {
      "text/plain": [
       "{'vedant': 18, 'arman': 15, 'sahil': 18, 'stud1': 1, 'stud2': 2, 'stud3': 3}"
      ]
     },
     "execution_count": 17,
     "metadata": {},
     "output_type": "execute_result"
    }
   ],
   "source": [
    "marks"
   ]
  },
  {
   "cell_type": "code",
   "execution_count": 21,
   "id": "2557b525-89a3-4747-b5c3-56501b4e3ad3",
   "metadata": {},
   "outputs": [],
   "source": [
    "marks[\"vedant\"]=15 # assigning the value to the list"
   ]
  },
  {
   "cell_type": "code",
   "execution_count": 24,
   "id": "58cec822-dbae-4dab-accc-828ff4ad4368",
   "metadata": {},
   "outputs": [
    {
     "data": {
      "text/plain": [
       "{'vedant': 15, 'arman': 15, 'sahil': 18, 'stud1': 1, 'stud2': 2, 'stud3': 3}"
      ]
     },
     "execution_count": 24,
     "metadata": {},
     "output_type": "execute_result"
    }
   ],
   "source": [
    "marks"
   ]
  },
  {
   "cell_type": "code",
   "execution_count": 34,
   "id": "0c8fac5a-6f32-488e-b2d6-eb9c0680bf99",
   "metadata": {},
   "outputs": [
    {
     "data": {
      "text/plain": [
       "15"
      ]
     },
     "execution_count": 34,
     "metadata": {},
     "output_type": "execute_result"
    }
   ],
   "source": [
    "marks.pop(\"arman\") # this will remove an item from the list "
   ]
  },
  {
   "cell_type": "code",
   "execution_count": 36,
   "id": "becbc09c-2668-47a1-8300-b11a2fad1a50",
   "metadata": {},
   "outputs": [
    {
     "data": {
      "text/plain": [
       "{'sahil': 18, 'stud1': 1, 'stud2': 2, 'stud3': 3}"
      ]
     },
     "execution_count": 36,
     "metadata": {},
     "output_type": "execute_result"
    }
   ],
   "source": [
    "marks"
   ]
  },
  {
   "cell_type": "code",
   "execution_count": null,
   "id": "4db17bd7-1508-426b-81d6-78c84556187f",
   "metadata": {},
   "outputs": [],
   "source": []
  }
 ],
 "metadata": {
  "kernelspec": {
   "display_name": "Python 3 (ipykernel)",
   "language": "python",
   "name": "python3"
  },
  "language_info": {
   "codemirror_mode": {
    "name": "ipython",
    "version": 3
   },
   "file_extension": ".py",
   "mimetype": "text/x-python",
   "name": "python",
   "nbconvert_exporter": "python",
   "pygments_lexer": "ipython3",
   "version": "3.12.4"
  }
 },
 "nbformat": 4,
 "nbformat_minor": 5
}
