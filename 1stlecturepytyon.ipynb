{
 "cells": [
  {
   "cell_type": "markdown",
   "id": "0d532ea9-1fdb-4d72-a806-15dcfc29cc49",
   "metadata": {},
   "source": [
    "# python for data science "
   ]
  },
  {
   "cell_type": "markdown",
   "id": "8f4b1d85-1f85-4864-95d6-a35fe50c33e5",
   "metadata": {},
   "source": [
    "# comments in python "
   ]
  },
  {
   "cell_type": "raw",
   "id": "cb3c807e-fecc-4266-9e48-f7243d6fc0cc",
   "metadata": {},
   "source": [
    "#single line comment"
   ]
  },
  {
   "cell_type": "code",
   "execution_count": 3,
   "id": "0898b542-bc4e-4dd6-942e-a143a5e7cb12",
   "metadata": {},
   "outputs": [],
   "source": [
    "# here we can start the python progarm  - \"#\" symbol is used to denote the single line comment \n"
   ]
  },
  {
   "cell_type": "raw",
   "id": "3867bb23-aeff-4c1d-b0cc-8a00146b11ff",
   "metadata": {},
   "source": [
    "#multiple lines comment \n"
   ]
  },
  {
   "cell_type": "raw",
   "id": "fcee19b8-7c84-4f01-b8ff-4a67658c7b3b",
   "metadata": {},
   "source": [
    "\"\"\"arman is a good boy \n",
    "arman like to play cricker \n",
    "this is a multiple line comment \"\"\"\n"
   ]
  },
  {
   "cell_type": "markdown",
   "id": "a5139dfc-80bd-4230-b102-0907f316ddd0",
   "metadata": {},
   "source": [
    "# variaables in python "
   ]
  },
  {
   "cell_type": "code",
   "execution_count": 29,
   "id": "3321369e-2ac4-44c5-a1eb-3594a29fb6e1",
   "metadata": {},
   "outputs": [],
   "source": [
    "a =5 \n",
    "b= \"vedant\"\n",
    "c =3.14\n",
    "d =True\n"
   ]
  },
  {
   "cell_type": "code",
   "execution_count": 33,
   "id": "514ca899-30a6-4d52-ae7d-8ca0f294c0b0",
   "metadata": {},
   "outputs": [
    {
     "data": {
      "text/plain": [
       "int"
      ]
     },
     "execution_count": 33,
     "metadata": {},
     "output_type": "execute_result"
    }
   ],
   "source": [
    "type(a) #all numbers are integers type\n"
   ]
  },
  {
   "cell_type": "code",
   "execution_count": 35,
   "id": "a824e76f-2be9-4c6e-ad34-03be0d491c09",
   "metadata": {},
   "outputs": [
    {
     "data": {
      "text/plain": [
       "str"
      ]
     },
     "execution_count": 35,
     "metadata": {},
     "output_type": "execute_result"
    }
   ],
   "source": [
    "\n",
    "type(b) #the words are made of string type\n"
   ]
  },
  {
   "cell_type": "code",
   "execution_count": 37,
   "id": "112e7201-2fe4-42ba-988a-1117a32135da",
   "metadata": {},
   "outputs": [
    {
     "data": {
      "text/plain": [
       "float"
      ]
     },
     "execution_count": 37,
     "metadata": {},
     "output_type": "execute_result"
    }
   ],
   "source": [
    "type(c) #floating point number are made of decimal point "
   ]
  },
  {
   "cell_type": "code",
   "execution_count": 39,
   "id": "ce759eee-6109-410c-9cea-2d7272328f7e",
   "metadata": {},
   "outputs": [
    {
     "data": {
      "text/plain": [
       "bool"
      ]
     },
     "execution_count": 39,
     "metadata": {},
     "output_type": "execute_result"
    }
   ],
   "source": [
    "type(d) # true and false are boolean type "
   ]
  },
  {
   "cell_type": "markdown",
   "id": "97a69927-8a51-4623-9baa-badf3e0909f8",
   "metadata": {},
   "source": [
    "# operations with print function"
   ]
  },
  {
   "cell_type": "code",
   "execution_count": 42,
   "id": "0464206e-ecad-4938-899d-3a949018ecf0",
   "metadata": {},
   "outputs": [
    {
     "name": "stdout",
     "output_type": "stream",
     "text": [
      "3\n"
     ]
    }
   ],
   "source": [
    "print(1+2)"
   ]
  },
  {
   "cell_type": "code",
   "execution_count": 52,
   "id": "ed42f64b-3a7b-4ee3-bc96-7e97a74d09b9",
   "metadata": {},
   "outputs": [],
   "source": [
    "a =3\n",
    "b =5"
   ]
  },
  {
   "cell_type": "code",
   "execution_count": 50,
   "id": "7ad1bf1f-2c8f-4700-8afc-a76eb9a49896",
   "metadata": {},
   "outputs": [
    {
     "name": "stdout",
     "output_type": "stream",
     "text": [
      "8\n",
      "15\n",
      "0.6\n"
     ]
    }
   ],
   "source": [
    "print(a+b) #add\n",
    "print(a*b)  #multiply\n",
    "print(a/b) #divide\n"
   ]
  },
  {
   "cell_type": "code",
   "execution_count": 54,
   "id": "3c66e8de-7373-4167-b2ec-c30b2f519023",
   "metadata": {},
   "outputs": [
    {
     "name": "stdout",
     "output_type": "stream",
     "text": [
      "my name is vedant and my age is  3\n"
     ]
    }
   ],
   "source": [
    "print(\"my name is vedant and my age is \",a)"
   ]
  },
  {
   "cell_type": "markdown",
   "id": "b232fa6f-7902-4ddc-8c2a-e3c5a20b953a",
   "metadata": {},
   "source": [
    "# python string function "
   ]
  },
  {
   "cell_type": "code",
   "execution_count": 57,
   "id": "16b8e684-23f4-433f-9178-9f41227b1025",
   "metadata": {},
   "outputs": [],
   "source": [
    "info =\"arman is a Good boy\""
   ]
  },
  {
   "cell_type": "code",
   "execution_count": 59,
   "id": "8349878b-04cc-48e6-a6a8-b0c1f7a7dd8a",
   "metadata": {},
   "outputs": [
    {
     "data": {
      "text/plain": [
       "'Arman is a good boy'"
      ]
     },
     "execution_count": 59,
     "metadata": {},
     "output_type": "execute_result"
    }
   ],
   "source": [
    "info.capitalize() #makes the first letter capital and remaining letter smaller "
   ]
  },
  {
   "cell_type": "code",
   "execution_count": 61,
   "id": "2cf0de35-6c71-4086-801c-1561e993950a",
   "metadata": {},
   "outputs": [
    {
     "data": {
      "text/plain": [
       "'ARMAN IS A GOOD BOY'"
      ]
     },
     "execution_count": 61,
     "metadata": {},
     "output_type": "execute_result"
    }
   ],
   "source": [
    "info.upper() # makes all letter in uppercase "
   ]
  },
  {
   "cell_type": "code",
   "execution_count": 63,
   "id": "3822edc1-faf4-452b-9063-fc4e8437c584",
   "metadata": {},
   "outputs": [
    {
     "data": {
      "text/plain": [
       "'arman is a good boy'"
      ]
     },
     "execution_count": 63,
     "metadata": {},
     "output_type": "execute_result"
    }
   ],
   "source": [
    "info.lower() #makes the all letter in lower case "
   ]
  },
  {
   "cell_type": "code",
   "execution_count": 67,
   "id": "9cd925cc-f6e2-4d1d-927b-16bf65b35522",
   "metadata": {},
   "outputs": [
    {
     "data": {
      "text/plain": [
       "3"
      ]
     },
     "execution_count": 67,
     "metadata": {},
     "output_type": "execute_result"
    }
   ],
   "source": [
    "info.count(\"a\") #count a appears in the sentence "
   ]
  },
  {
   "cell_type": "code",
   "execution_count": 71,
   "id": "f814d872-8a3b-4943-b426-891f63d3192f",
   "metadata": {},
   "outputs": [
    {
     "data": {
      "text/plain": [
       "'Arman Is A Good Boy'"
      ]
     },
     "execution_count": 71,
     "metadata": {},
     "output_type": "execute_result"
    }
   ],
   "source": [
    "info.title() #makes the first letter of each word capital "
   ]
  },
  {
   "cell_type": "code",
   "execution_count": 75,
   "id": "549200f3-6910-414e-9acb-b58d5b999b6a",
   "metadata": {},
   "outputs": [
    {
     "data": {
      "text/plain": [
       "'ARMAN IS A gOOD BOY'"
      ]
     },
     "execution_count": 75,
     "metadata": {},
     "output_type": "execute_result"
    }
   ],
   "source": [
    "info.swapcase() # convert  the upper case into lower case and lower case into the upper case "
   ]
  },
  {
   "cell_type": "code",
   "execution_count": 83,
   "id": "dc862cd2-4d67-405f-b8e4-fefbf6c481e2",
   "metadata": {},
   "outputs": [
    {
     "data": {
      "text/plain": [
       "'vedant is a Good boy'"
      ]
     },
     "execution_count": 83,
     "metadata": {},
     "output_type": "execute_result"
    }
   ],
   "source": [
    "info.replace(\"arman\",\"vedant\") # replace the arman with vedant"
   ]
  },
  {
   "cell_type": "code",
   "execution_count": 87,
   "id": "be615ecb-710e-48dc-bc90-dab705dbefa3",
   "metadata": {},
   "outputs": [
    {
     "data": {
      "text/plain": [
       "'armanvedant'"
      ]
     },
     "execution_count": 87,
     "metadata": {},
     "output_type": "execute_result"
    }
   ],
   "source": [
    "name =\"arman\"\n",
    "name2 =\"vedant\"\n",
    "name+name2 # this will add the string in side  the previous string "
   ]
  },
  {
   "cell_type": "markdown",
   "id": "3f0498ab-1ab6-4e4c-bc4f-bb90745ea317",
   "metadata": {},
   "source": [
    "# conditional statement"
   ]
  },
  {
   "cell_type": "code",
   "execution_count": 94,
   "id": "9851451d-b49a-4e6c-a0c3-8b287bb7041b",
   "metadata": {},
   "outputs": [
    {
     "name": "stdout",
     "output_type": "stream",
     "text": [
      "you are eligible for vote \n"
     ]
    }
   ],
   "source": [
    "age = 18\n",
    "if age >15:\n",
    "    print(\"you are eligible for vote \")\n",
    "else:\n",
    "    print(\"you cant vote\")"
   ]
  },
  {
   "cell_type": "code",
   "execution_count": 96,
   "id": "09c007dc-eadb-48cc-a8cd-d5e783a392c7",
   "metadata": {},
   "outputs": [
    {
     "name": "stdout",
     "output_type": "stream",
     "text": [
      "10 greater than  b\n",
      "15\n"
     ]
    }
   ],
   "source": [
    "a =10\n",
    "b =5\n",
    "if a>b:\n",
    "    print(a, \"greater than  b\")\n",
    "    print(a+b)\n",
    "else:\n",
    "    print(b,\"is greater than a\")\n",
    "    print(a-b)"
   ]
  },
  {
   "cell_type": "code",
   "execution_count": null,
   "id": "6022ae7b-628c-4b2c-a52d-dd39d799cdca",
   "metadata": {},
   "outputs": [],
   "source": []
  }
 ],
 "metadata": {
  "kernelspec": {
   "display_name": "Python 3 (ipykernel)",
   "language": "python",
   "name": "python3"
  },
  "language_info": {
   "codemirror_mode": {
    "name": "ipython",
    "version": 3
   },
   "file_extension": ".py",
   "mimetype": "text/x-python",
   "name": "python",
   "nbconvert_exporter": "python",
   "pygments_lexer": "ipython3",
   "version": "3.12.4"
  }
 },
 "nbformat": 4,
 "nbformat_minor": 5
}
