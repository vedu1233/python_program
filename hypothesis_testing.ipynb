{
 "cells": [
  {
   "cell_type": "code",
   "execution_count": 1,
   "id": "e1818d8f-eebd-467f-9780-f87bae397ed3",
   "metadata": {},
   "outputs": [],
   "source": [
    "import pandas as pd\n",
    "import numpy as np\n",
    "from scipy import stats"
   ]
  },
  {
   "cell_type": "raw",
   "id": "f75fbbcd-e1ce-4b74-b3ff-feb37400fd0d",
   "metadata": {},
   "source": [
    "# example : supermarket loyalty program they launch the loyalty program if the result of \n",
    "average spending od shopper is more than $120 per week.\n",
    "now they launch the pilot program for checking and they find out on \n",
    "sample size =80 shopper\n",
    "average = 130$ ,\n",
    "standard deviation of mean =$40\n",
    "if they accept the supermarket or reject it ?\n",
    "we can find out with the help of hypothesis testting\n",
    "\n",
    "we found tvalue =2.20\n",
    "we put this on our python function \n",
    "\n"
   ]
  },
  {
   "cell_type": "code",
   "execution_count": 12,
   "id": "5e807e88-a62b-4adf-ab71-b6f81cfe2a09",
   "metadata": {},
   "outputs": [],
   "source": [
    "p =1-stats.t.cdf(2.2,79) # 2.2 = t value,79 =degre of freedom n-1"
   ]
  },
  {
   "cell_type": "code",
   "execution_count": 9,
   "id": "78dc2da4-8013-47d1-950f-2dae613f515d",
   "metadata": {},
   "outputs": [
    {
     "name": "stdout",
     "output_type": "stream",
     "text": [
      "0.0154\n"
     ]
    }
   ],
   "source": [
    "print(np.round(p,4))"
   ]
  },
  {
   "cell_type": "raw",
   "id": "743226ca-0277-4aa7-8b30-a64bbc910870",
   "metadata": {},
   "source": [
    "here we find out the probability using 2 tail test\n",
    "in two tail test  p =p1 +p2\n",
    "here tvalue =1.4"
   ]
  },
  {
   "cell_type": "code",
   "execution_count": 16,
   "id": "2bb19a96-5c78-4ac6-99a7-89df69a57dae",
   "metadata": {},
   "outputs": [
    {
     "data": {
      "text/plain": [
       "0.061458031083049924"
      ]
     },
     "execution_count": 16,
     "metadata": {},
     "output_type": "execute_result"
    }
   ],
   "source": [
    "p1 =stats.t.cdf(1.4,49)\n",
    "p =p*2\n",
    "p"
   ]
  },
  {
   "cell_type": "code",
   "execution_count": 18,
   "id": "680fcf5f-521e-48a5-8f13-74d5ebc99f51",
   "metadata": {},
   "outputs": [
    {
     "name": "stdout",
     "output_type": "stream",
     "text": [
      "accept the alternative hypothesis\n"
     ]
    }
   ],
   "source": [
    "\n"
   ]
  },
  {
   "cell_type": "code",
   "execution_count": 20,
   "id": "905523a9-418a-42eb-bc0c-feab469421bd",
   "metadata": {},
   "outputs": [
    {
     "name": "stdin",
     "output_type": "stream",
     "text": [
      "enter t_value  : 1.4\n"
     ]
    },
    {
     "ename": "ValueError",
     "evalue": "invalid literal for int() with base 10: '1.4'",
     "output_type": "error",
     "traceback": [
      "\u001b[1;31m---------------------------------------------------------------------------\u001b[0m",
      "\u001b[1;31mValueError\u001b[0m                                Traceback (most recent call last)",
      "Cell \u001b[1;32mIn[20], line 1\u001b[0m\n\u001b[1;32m----> 1\u001b[0m t_value \u001b[38;5;241m=\u001b[39m\u001b[38;5;28mint\u001b[39m(\u001b[38;5;28minput\u001b[39m(\u001b[38;5;124m\"\u001b[39m\u001b[38;5;124menter t_value  :\u001b[39m\u001b[38;5;124m\"\u001b[39m))\n\u001b[0;32m      2\u001b[0m degree_f \u001b[38;5;241m=\u001b[39m\u001b[38;5;28mint\u001b[39m(\u001b[38;5;28minput\u001b[39m(\u001b[38;5;124m\"\u001b[39m\u001b[38;5;124mEnter degree of freedom\u001b[39m\u001b[38;5;124m\"\u001b[39m))\n",
      "\u001b[1;31mValueError\u001b[0m: invalid literal for int() with base 10: '1.4'"
     ]
    }
   ],
   "source": [
    "t_value =int(input(\"enter t_value  :\"))\n",
    "degree_f =int(input(\"Enter degree of freedom\"))\n",
    "p1 =stats.t.cdf(t_value,degree_f)\n",
    "p =p1*2\n",
    "if p <0.05:\n",
    "    print(\"reject the null hypothesis\")\n",
    "else:\n",
    "    print(\"accept the alternative hypothesis\")\n"
   ]
  },
  {
   "cell_type": "code",
   "execution_count": 30,
   "id": "01f3d93d-62d0-4650-995c-64c40da96f28",
   "metadata": {},
   "outputs": [
    {
     "name": "stdin",
     "output_type": "stream",
     "text": [
      "enter t_value  : 1.4\n",
      "Enter degree of freedom 49\n"
     ]
    },
    {
     "name": "stdout",
     "output_type": "stream",
     "text": [
      " the probability value is:   0.16781331091681317\n",
      "accept the alternative hypothesis & take actions \n"
     ]
    }
   ],
   "source": [
    "t_value =float(input(\"enter t_value  :\"))\n",
    "degree_f =float(input(\"Enter degree of freedom\"))\n",
    "p1 =1-stats.t.cdf(t_value,degree_f)\n",
    "p =p1*2\n",
    "print(\" the probability value is:  \",p)\n",
    "if p <0.05:\n",
    "    print(\"reject the null hypothesis\")\n",
    "else:\n",
    "    print(\"accept the alternative hypothesis & take actions \")\n"
   ]
  },
  {
   "cell_type": "code",
   "execution_count": 1,
   "id": "7a4e069c-4e18-4df9-ac52-df8470e94ddc",
   "metadata": {},
   "outputs": [],
   "source": [
    "import pandas as pd \n",
    "import numpy as np \n",
    "import matplotlib.pyplot as plt\n",
    "from scipy import stats\n"
   ]
  },
  {
   "cell_type": "code",
   "execution_count": null,
   "id": "1e4566cb-73cb-4cf8-8c27-d441e872f837",
   "metadata": {},
   "outputs": [],
   "source": [
    "t_value =float(input(\"enter the value of t_value    :\"))\n",
    "degree_f =int(input(\"Enter the degree of freedom    :\"))\n"
   ]
  },
  {
   "cell_type": "code",
   "execution_count": null,
   "id": "f1270344-11d3-4ce6-be1e-59663edb766f",
   "metadata": {},
   "outputs": [],
   "source": [
    "t_value =float(input(\"enter the value of t_value    :\"))\n",
    "p_value =int(input(\"enter the value for p_value     :\"))\n",
    "p = 1-stats.t.cdf(t_value,)"
   ]
  }
 ],
 "metadata": {
  "kernelspec": {
   "display_name": "Python 3 (ipykernel)",
   "language": "python",
   "name": "python3"
  },
  "language_info": {
   "codemirror_mode": {
    "name": "ipython",
    "version": 3
   },
   "file_extension": ".py",
   "mimetype": "text/x-python",
   "name": "python",
   "nbconvert_exporter": "python",
   "pygments_lexer": "ipython3",
   "version": "3.12.4"
  }
 },
 "nbformat": 4,
 "nbformat_minor": 5
}
