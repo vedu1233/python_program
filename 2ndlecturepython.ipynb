{
 "cells": [
  {
   "cell_type": "markdown",
   "id": "7ff45b79-7ef0-43b6-aac6-4f33b53d3f7a",
   "metadata": {},
   "source": [
    "# conditional statement "
   ]
  },
  {
   "cell_type": "code",
   "execution_count": 1,
   "id": "45c4c9aa-ad56-4155-a830-997a5836449e",
   "metadata": {},
   "outputs": [
    {
     "name": "stdout",
     "output_type": "stream",
     "text": [
      "your salary is low\n",
      "12000.0\n"
     ]
    }
   ],
   "source": [
    "salary =15000\n",
    "if salary>20000:\n",
    "    tax =0.25\n",
    "    print(\"you salary is high\")\n",
    "else:\n",
    "    tax =0.20\n",
    "    print(\"your salary is low\")\n",
    "net_sal =salary -salary*tax\n",
    "print(net_sal)\n"
   ]
  },
  {
   "cell_type": "markdown",
   "id": "6fe32fcf-89c3-42ed-bc41-243bfef75b56",
   "metadata": {},
   "source": [
    "# range() statement "
   ]
  },
  {
   "cell_type": "code",
   "execution_count": 227,
   "id": "4dc9e8ee-0c16-4114-b310-a9abb2569727",
   "metadata": {},
   "outputs": [
    {
     "name": "stdout",
     "output_type": "stream",
     "text": [
      "1\n",
      "2\n",
      "3\n",
      "4\n",
      "vedant\n"
     ]
    }
   ],
   "source": [
    "for name in range(1,5): #range(1st , end)\n",
    "    print(name)\n",
    "print(\"vedant\") #this is put of the indent so this will print after the loop is over"
   ]
  },
  {
   "cell_type": "code",
   "execution_count": 78,
   "id": "6379e875-6acd-45cd-a802-4fa0fc87deeb",
   "metadata": {},
   "outputs": [
    {
     "name": "stdout",
     "output_type": "stream",
     "text": [
      "1\n",
      "my name is vedant\n",
      "2\n",
      "my name is vedant\n",
      "3\n",
      "my name is vedant\n",
      "4\n",
      "my name is vedant\n"
     ]
    }
   ],
   "source": [
    "for name in range(1,5):\n",
    "    print(name)\n",
    "    print(\"my name is vedant\")"
   ]
  },
  {
   "cell_type": "markdown",
   "id": "d5899721-fc4e-43ad-81cd-78f401b949d1",
   "metadata": {},
   "source": [
    "# program to print the odd numbers \n",
    "for i in range(1,10,2):\n",
    "    print(i)"
   ]
  },
  {
   "cell_type": "code",
   "execution_count": 80,
   "id": "d7b6abd6-f2e9-4979-983b-7cf7aa93cbbb",
   "metadata": {},
   "outputs": [
    {
     "name": "stdout",
     "output_type": "stream",
     "text": [
      "2\n",
      "4\n",
      "6\n",
      "8\n"
     ]
    }
   ],
   "source": [
    "#program to print the even numbers \n",
    "for  i in range(2,10,2):\n",
    "    print(i)"
   ]
  },
  {
   "cell_type": "markdown",
   "id": "6eaba285-048a-45a0-b7bb-a959d6cac6d0",
   "metadata": {},
   "source": [
    "# break()"
   ]
  },
  {
   "cell_type": "code",
   "execution_count": 81,
   "id": "113bbe19-bd5b-4764-be59-80d09569af3c",
   "metadata": {},
   "outputs": [
    {
     "name": "stdout",
     "output_type": "stream",
     "text": [
      " different\n"
     ]
    }
   ],
   "source": [
    "for i in range(1,11):\n",
    "    if i ==12:\n",
    "        print(i)\n",
    "        print(\"same\")\n",
    "        break\n",
    "else:\n",
    "    print(\" different\")"
   ]
  },
  {
   "cell_type": "code",
   "execution_count": 82,
   "id": "80c585a7-c5aa-45e3-ad54-0844a4f0aae3",
   "metadata": {},
   "outputs": [
    {
     "name": "stdout",
     "output_type": "stream",
     "text": [
      "0 0\n",
      "1 1\n",
      "2 4\n",
      "3 9\n",
      "4 16\n",
      "5 25\n",
      "6 36\n",
      "7 49\n",
      "8 64\n",
      "9 81\n",
      "10 100\n"
     ]
    }
   ],
   "source": [
    "#print the square of the numbers\n",
    "for i in range(11):\n",
    "    print(i,i**2)"
   ]
  },
  {
   "cell_type": "code",
   "execution_count": 83,
   "id": "6cbb10b8-7d8b-441f-90f9-ca0c92d435ec",
   "metadata": {},
   "outputs": [
    {
     "name": "stdout",
     "output_type": "stream",
     "text": [
      "0 0\n",
      "1 1\n",
      "2 8\n",
      "3 27\n",
      "4 64\n",
      "5 125\n",
      "6 216\n",
      "7 343\n",
      "8 512\n",
      "9 729\n",
      "10 1000\n"
     ]
    }
   ],
   "source": [
    "for i in range(11):\n",
    "    print(i,i**3)"
   ]
  },
  {
   "cell_type": "code",
   "execution_count": 84,
   "id": "4c832220-4762-4776-8e5e-8ba993354751",
   "metadata": {},
   "outputs": [
    {
     "name": "stdout",
     "output_type": "stream",
     "text": [
      "0 -1\n",
      "1 0\n",
      "2 1\n",
      "3 2\n",
      "4 3\n",
      "5 4\n",
      "6 5\n",
      "7 6\n",
      "8 7\n",
      "9 8\n",
      "10 9\n",
      "11 10\n"
     ]
    }
   ],
   "source": [
    "for i in range(12):\n",
    "    print(i,i-1)"
   ]
  },
  {
   "cell_type": "code",
   "execution_count": 85,
   "id": "e11fa5a5-c971-41e4-af1f-56521735ffa8",
   "metadata": {},
   "outputs": [
    {
     "name": "stdout",
     "output_type": "stream",
     "text": [
      "1 @\n",
      "6 @\n",
      "11 @\n",
      "16 @\n",
      "21 @\n",
      "26 @\n",
      "31 @\n"
     ]
    }
   ],
   "source": [
    "for i in range(1,35,5):\n",
    "    print(i,\"@\")"
   ]
  },
  {
   "cell_type": "code",
   "execution_count": 86,
   "id": "4a4491f1-7b6d-407a-b5ae-4bc386a1b20e",
   "metadata": {},
   "outputs": [
    {
     "name": "stdout",
     "output_type": "stream",
     "text": [
      "v\n",
      "e\n",
      "d\n",
      "a\n",
      "n\n",
      "t\n"
     ]
    }
   ],
   "source": [
    "# for loop on string\n",
    "name =\"vedant\"\n",
    "for i in name:\n",
    "    print(i)\n"
   ]
  },
  {
   "cell_type": "code",
   "execution_count": 87,
   "id": "12f37bc6-61c8-4949-a9a4-33cafc911c25",
   "metadata": {},
   "outputs": [
    {
     "name": "stdout",
     "output_type": "stream",
     "text": [
      "vedantvedant\n",
      "vedantvedantvedant\n",
      "vedantvedantvedantvedant\n",
      "vedantvedantvedantvedantvedant\n",
      "vedantvedantvedantvedantvedantvedant\n",
      "vedantvedantvedantvedantvedantvedantvedant\n",
      "vedantvedantvedantvedantvedantvedantvedantvedant\n",
      "vedantvedantvedantvedantvedantvedantvedantvedantvedant\n",
      "vedantvedantvedantvedantvedantvedantvedantvedantvedantvedant\n",
      "vedantvedantvedantvedantvedantvedantvedantvedantvedantvedantvedant\n",
      "vedantvedantvedantvedantvedantvedantvedantvedantvedantvedantvedantvedant\n",
      "vedantvedantvedantvedantvedantvedantvedantvedantvedantvedantvedantvedantvedant\n",
      "vedantvedantvedantvedantvedantvedantvedantvedantvedantvedantvedantvedantvedantvedant\n",
      "vedantvedantvedantvedantvedantvedantvedantvedantvedantvedantvedantvedantvedantvedantvedant\n",
      "vedantvedantvedantvedantvedantvedantvedantvedantvedantvedantvedantvedantvedantvedantvedantvedant\n",
      "vedantvedantvedantvedantvedantvedantvedantvedantvedantvedantvedantvedantvedantvedantvedantvedantvedant\n",
      "vedantvedantvedantvedantvedantvedantvedantvedantvedantvedantvedantvedantvedantvedantvedantvedantvedantvedant\n",
      "vedantvedantvedantvedantvedantvedantvedantvedantvedantvedantvedantvedantvedantvedantvedantvedantvedantvedantvedant\n",
      "vedantvedantvedantvedantvedantvedantvedantvedantvedantvedantvedantvedantvedantvedantvedantvedantvedantvedantvedantvedant\n",
      "vedantvedantvedantvedantvedantvedantvedantvedantvedantvedantvedantvedantvedantvedantvedantvedantvedantvedantvedantvedantvedant\n",
      "vedantvedantvedantvedantvedantvedantvedantvedantvedantvedantvedantvedantvedantvedantvedantvedantvedantvedantvedantvedantvedantvedant\n",
      "vedantvedantvedantvedantvedantvedantvedantvedantvedantvedantvedantvedantvedantvedantvedantvedantvedantvedantvedantvedantvedantvedantvedant\n",
      "vedantvedantvedantvedantvedantvedantvedantvedantvedantvedantvedantvedantvedantvedantvedantvedantvedantvedantvedantvedantvedantvedantvedantvedant\n",
      "vedantvedantvedantvedantvedantvedantvedantvedantvedantvedantvedantvedantvedantvedantvedantvedantvedantvedantvedantvedantvedantvedantvedantvedantvedant\n",
      "vedantvedantvedantvedantvedantvedantvedantvedantvedantvedantvedantvedantvedantvedantvedantvedantvedantvedantvedantvedantvedantvedantvedantvedantvedantvedant\n",
      "vedantvedantvedantvedantvedantvedantvedantvedantvedantvedantvedantvedantvedantvedantvedantvedantvedantvedantvedantvedantvedantvedantvedantvedantvedantvedantvedant\n",
      "vedantvedantvedantvedantvedantvedantvedantvedantvedantvedantvedantvedantvedantvedantvedantvedantvedantvedantvedantvedantvedantvedantvedantvedantvedantvedantvedantvedant\n",
      "vedantvedantvedantvedantvedantvedantvedantvedantvedantvedantvedantvedantvedantvedantvedantvedantvedantvedantvedantvedantvedantvedantvedantvedantvedantvedantvedantvedantvedant\n",
      "vedantvedantvedantvedantvedantvedantvedantvedantvedantvedantvedantvedantvedantvedantvedantvedantvedantvedantvedantvedantvedantvedantvedantvedantvedantvedantvedantvedantvedantvedant\n",
      "vedantvedantvedantvedantvedantvedantvedantvedantvedantvedantvedantvedantvedantvedantvedantvedantvedantvedantvedantvedantvedantvedantvedantvedantvedantvedantvedantvedantvedantvedantvedant\n",
      "vedantvedantvedantvedantvedantvedantvedantvedantvedantvedantvedantvedantvedantvedantvedantvedantvedantvedantvedantvedantvedantvedantvedantvedantvedantvedantvedantvedantvedantvedantvedantvedant\n",
      "vedantvedantvedantvedantvedantvedantvedantvedantvedantvedantvedantvedantvedantvedantvedantvedantvedantvedantvedantvedantvedantvedantvedantvedantvedantvedantvedantvedantvedantvedantvedantvedantvedant\n",
      "vedantvedantvedantvedantvedantvedantvedantvedantvedantvedantvedantvedantvedantvedantvedantvedantvedantvedantvedantvedantvedantvedantvedantvedantvedantvedantvedantvedantvedantvedantvedantvedantvedantvedant\n",
      "vedantvedantvedantvedantvedantvedantvedantvedantvedantvedantvedantvedantvedantvedantvedantvedantvedantvedantvedantvedantvedantvedantvedantvedantvedantvedantvedantvedantvedantvedantvedantvedantvedantvedantvedant\n",
      "vedantvedantvedantvedantvedantvedantvedantvedantvedantvedantvedantvedantvedantvedantvedantvedantvedantvedantvedantvedantvedantvedantvedantvedantvedantvedantvedantvedantvedantvedantvedantvedantvedantvedantvedantvedant\n",
      "vedantvedantvedantvedantvedantvedantvedantvedantvedantvedantvedantvedantvedantvedantvedantvedantvedantvedantvedantvedantvedantvedantvedantvedantvedantvedantvedantvedantvedantvedantvedantvedantvedantvedantvedantvedantvedant\n",
      "vedantvedantvedantvedantvedantvedantvedantvedantvedantvedantvedantvedantvedantvedantvedantvedantvedantvedantvedantvedantvedantvedantvedantvedantvedantvedantvedantvedantvedantvedantvedantvedantvedantvedantvedantvedantvedantvedant\n",
      "vedantvedantvedantvedantvedantvedantvedantvedantvedantvedantvedantvedantvedantvedantvedantvedantvedantvedantvedantvedantvedantvedantvedantvedantvedantvedantvedantvedantvedantvedantvedantvedantvedantvedantvedantvedantvedantvedantvedant\n",
      "vedantvedantvedantvedantvedantvedantvedantvedantvedantvedantvedantvedantvedantvedantvedantvedantvedantvedantvedantvedantvedantvedantvedantvedantvedantvedantvedantvedantvedantvedantvedantvedantvedantvedantvedantvedantvedantvedantvedantvedant\n",
      "vedantvedantvedantvedantvedantvedantvedantvedantvedantvedantvedantvedantvedantvedantvedantvedantvedantvedantvedantvedantvedantvedantvedantvedantvedantvedantvedantvedantvedantvedantvedantvedantvedantvedantvedantvedantvedantvedantvedantvedantvedant\n",
      "vedantvedantvedantvedantvedantvedantvedantvedantvedantvedantvedantvedantvedantvedantvedantvedantvedantvedantvedantvedantvedantvedantvedantvedantvedantvedantvedantvedantvedantvedantvedantvedantvedantvedantvedantvedantvedantvedantvedantvedantvedantvedant\n",
      "vedantvedantvedantvedantvedantvedantvedantvedantvedantvedantvedantvedantvedantvedantvedantvedantvedantvedantvedantvedantvedantvedantvedantvedantvedantvedantvedantvedantvedantvedantvedantvedantvedantvedantvedantvedantvedantvedantvedantvedantvedantvedantvedant\n",
      "vedantvedantvedantvedantvedantvedantvedantvedantvedantvedantvedantvedantvedantvedantvedantvedantvedantvedantvedantvedantvedantvedantvedantvedantvedantvedantvedantvedantvedantvedantvedantvedantvedantvedantvedantvedantvedantvedantvedantvedantvedantvedantvedantvedant\n",
      "vedantvedantvedantvedantvedantvedantvedantvedantvedantvedantvedantvedantvedantvedantvedantvedantvedantvedantvedantvedantvedantvedantvedantvedantvedantvedantvedantvedantvedantvedantvedantvedantvedantvedantvedantvedantvedantvedantvedantvedantvedantvedantvedantvedantvedant\n",
      "vedantvedantvedantvedantvedantvedantvedantvedantvedantvedantvedantvedantvedantvedantvedantvedantvedantvedantvedantvedantvedantvedantvedantvedantvedantvedantvedantvedantvedantvedantvedantvedantvedantvedantvedantvedantvedantvedantvedantvedantvedantvedantvedantvedantvedantvedant\n",
      "vedantvedantvedantvedantvedantvedantvedantvedantvedantvedantvedantvedantvedantvedantvedantvedantvedantvedantvedantvedantvedantvedantvedantvedantvedantvedantvedantvedantvedantvedantvedantvedantvedantvedantvedantvedantvedantvedantvedantvedantvedantvedantvedantvedantvedantvedantvedant\n",
      "vedantvedantvedantvedantvedantvedantvedantvedantvedantvedantvedantvedantvedantvedantvedantvedantvedantvedantvedantvedantvedantvedantvedantvedantvedantvedantvedantvedantvedantvedantvedantvedantvedantvedantvedantvedantvedantvedantvedantvedantvedantvedantvedantvedantvedantvedantvedantvedant\n",
      "vedantvedantvedantvedantvedantvedantvedantvedantvedantvedantvedantvedantvedantvedantvedantvedantvedantvedantvedantvedantvedantvedantvedantvedantvedantvedantvedantvedantvedantvedantvedantvedantvedantvedantvedantvedantvedantvedantvedantvedantvedantvedantvedantvedantvedantvedantvedantvedantvedant\n",
      "vedantvedantvedantvedantvedantvedantvedantvedantvedantvedantvedantvedantvedantvedantvedantvedantvedantvedantvedantvedantvedantvedantvedantvedantvedantvedantvedantvedantvedantvedantvedantvedantvedantvedantvedantvedantvedantvedantvedantvedantvedantvedantvedantvedantvedantvedantvedantvedantvedantvedant\n",
      "vedantvedantvedantvedantvedantvedantvedantvedantvedantvedantvedantvedantvedantvedantvedantvedantvedantvedantvedantvedantvedantvedantvedantvedantvedantvedantvedantvedantvedantvedantvedantvedantvedantvedantvedantvedantvedantvedantvedantvedantvedantvedantvedantvedantvedantvedantvedantvedantvedantvedantvedant\n",
      "vedantvedantvedantvedantvedantvedantvedantvedantvedantvedantvedantvedantvedantvedantvedantvedantvedantvedantvedantvedantvedantvedantvedantvedantvedantvedantvedantvedantvedantvedantvedantvedantvedantvedantvedantvedantvedantvedantvedantvedantvedantvedantvedantvedantvedantvedantvedantvedantvedantvedantvedantvedant\n",
      "vedantvedantvedantvedantvedantvedantvedantvedantvedantvedantvedantvedantvedantvedantvedantvedantvedantvedantvedantvedantvedantvedantvedantvedantvedantvedantvedantvedantvedantvedantvedantvedantvedantvedantvedantvedantvedantvedantvedantvedantvedantvedantvedantvedantvedantvedantvedantvedantvedantvedantvedantvedantvedant\n",
      "vedantvedantvedantvedantvedantvedantvedantvedantvedantvedantvedantvedantvedantvedantvedantvedantvedantvedantvedantvedantvedantvedantvedantvedantvedantvedantvedantvedantvedantvedantvedantvedantvedantvedantvedantvedantvedantvedantvedantvedantvedantvedantvedantvedantvedantvedantvedantvedantvedantvedantvedantvedantvedantvedant\n",
      "vedantvedantvedantvedantvedantvedantvedantvedantvedantvedantvedantvedantvedantvedantvedantvedantvedantvedantvedantvedantvedantvedantvedantvedantvedantvedantvedantvedantvedantvedantvedantvedantvedantvedantvedantvedantvedantvedantvedantvedantvedantvedantvedantvedantvedantvedantvedantvedantvedantvedantvedantvedantvedantvedantvedant\n",
      "vedantvedantvedantvedantvedantvedantvedantvedantvedantvedantvedantvedantvedantvedantvedantvedantvedantvedantvedantvedantvedantvedantvedantvedantvedantvedantvedantvedantvedantvedantvedantvedantvedantvedantvedantvedantvedantvedantvedantvedantvedantvedantvedantvedantvedantvedantvedantvedantvedantvedantvedantvedantvedantvedantvedantvedant\n",
      "vedantvedantvedantvedantvedantvedantvedantvedantvedantvedantvedantvedantvedantvedantvedantvedantvedantvedantvedantvedantvedantvedantvedantvedantvedantvedantvedantvedantvedantvedantvedantvedantvedantvedantvedantvedantvedantvedantvedantvedantvedantvedantvedantvedantvedantvedantvedantvedantvedantvedantvedantvedantvedantvedantvedantvedantvedant\n",
      "vedantvedantvedantvedantvedantvedantvedantvedantvedantvedantvedantvedantvedantvedantvedantvedantvedantvedantvedantvedantvedantvedantvedantvedantvedantvedantvedantvedantvedantvedantvedantvedantvedantvedantvedantvedantvedantvedantvedantvedantvedantvedantvedantvedantvedantvedantvedantvedantvedantvedantvedantvedantvedantvedantvedantvedantvedantvedant\n",
      "vedantvedantvedantvedantvedantvedantvedantvedantvedantvedantvedantvedantvedantvedantvedantvedantvedantvedantvedantvedantvedantvedantvedantvedantvedantvedantvedantvedantvedantvedantvedantvedantvedantvedantvedantvedantvedantvedantvedantvedantvedantvedantvedantvedantvedantvedantvedantvedantvedantvedantvedantvedantvedantvedantvedantvedantvedantvedantvedant\n",
      "vedantvedantvedantvedantvedantvedantvedantvedantvedantvedantvedantvedantvedantvedantvedantvedantvedantvedantvedantvedantvedantvedantvedantvedantvedantvedantvedantvedantvedantvedantvedantvedantvedantvedantvedantvedantvedantvedantvedantvedantvedantvedantvedantvedantvedantvedantvedantvedantvedantvedantvedantvedantvedantvedantvedantvedantvedantvedantvedantvedant\n",
      "vedantvedantvedantvedantvedantvedantvedantvedantvedantvedantvedantvedantvedantvedantvedantvedantvedantvedantvedantvedantvedantvedantvedantvedantvedantvedantvedantvedantvedantvedantvedantvedantvedantvedantvedantvedantvedantvedantvedantvedantvedantvedantvedantvedantvedantvedantvedantvedantvedantvedantvedantvedantvedantvedantvedantvedantvedantvedantvedantvedantvedant\n",
      "vedantvedantvedantvedantvedantvedantvedantvedantvedantvedantvedantvedantvedantvedantvedantvedantvedantvedantvedantvedantvedantvedantvedantvedantvedantvedantvedantvedantvedantvedantvedantvedantvedantvedantvedantvedantvedantvedantvedantvedantvedantvedantvedantvedantvedantvedantvedantvedantvedantvedantvedantvedantvedantvedantvedantvedantvedantvedantvedantvedantvedantvedant\n",
      "vedantvedantvedantvedantvedantvedantvedantvedantvedantvedantvedantvedantvedantvedantvedantvedantvedantvedantvedantvedantvedantvedantvedantvedantvedantvedantvedantvedantvedantvedantvedantvedantvedantvedantvedantvedantvedantvedantvedantvedantvedantvedantvedantvedantvedantvedantvedantvedantvedantvedantvedantvedantvedantvedantvedantvedantvedantvedantvedantvedantvedantvedantvedant\n",
      "vedantvedantvedantvedantvedantvedantvedantvedantvedantvedantvedantvedantvedantvedantvedantvedantvedantvedantvedantvedantvedantvedantvedantvedantvedantvedantvedantvedantvedantvedantvedantvedantvedantvedantvedantvedantvedantvedantvedantvedantvedantvedantvedantvedantvedantvedantvedantvedantvedantvedantvedantvedantvedantvedantvedantvedantvedantvedantvedantvedantvedantvedantvedantvedant\n",
      "vedantvedantvedantvedantvedantvedantvedantvedantvedantvedantvedantvedantvedantvedantvedantvedantvedantvedantvedantvedantvedantvedantvedantvedantvedantvedantvedantvedantvedantvedantvedantvedantvedantvedantvedantvedantvedantvedantvedantvedantvedantvedantvedantvedantvedantvedantvedantvedantvedantvedantvedantvedantvedantvedantvedantvedantvedantvedantvedantvedantvedantvedantvedantvedantvedant\n",
      "vedantvedantvedantvedantvedantvedantvedantvedantvedantvedantvedantvedantvedantvedantvedantvedantvedantvedantvedantvedantvedantvedantvedantvedantvedantvedantvedantvedantvedantvedantvedantvedantvedantvedantvedantvedantvedantvedantvedantvedantvedantvedantvedantvedantvedantvedantvedantvedantvedantvedantvedantvedantvedantvedantvedantvedantvedantvedantvedantvedantvedantvedantvedantvedantvedantvedant\n",
      "vedantvedantvedantvedantvedantvedantvedantvedantvedantvedantvedantvedantvedantvedantvedantvedantvedantvedantvedantvedantvedantvedantvedantvedantvedantvedantvedantvedantvedantvedantvedantvedantvedantvedantvedantvedantvedantvedantvedantvedantvedantvedantvedantvedantvedantvedantvedantvedantvedantvedantvedantvedantvedantvedantvedantvedantvedantvedantvedantvedantvedantvedantvedantvedantvedantvedantvedant\n",
      "vedantvedantvedantvedantvedantvedantvedantvedantvedantvedantvedantvedantvedantvedantvedantvedantvedantvedantvedantvedantvedantvedantvedantvedantvedantvedantvedantvedantvedantvedantvedantvedantvedantvedantvedantvedantvedantvedantvedantvedantvedantvedantvedantvedantvedantvedantvedantvedantvedantvedantvedantvedantvedantvedantvedantvedantvedantvedantvedantvedantvedantvedantvedantvedantvedantvedantvedantvedant\n",
      "vedantvedantvedantvedantvedantvedantvedantvedantvedantvedantvedantvedantvedantvedantvedantvedantvedantvedantvedantvedantvedantvedantvedantvedantvedantvedantvedantvedantvedantvedantvedantvedantvedantvedantvedantvedantvedantvedantvedantvedantvedantvedantvedantvedantvedantvedantvedantvedantvedantvedantvedantvedantvedantvedantvedantvedantvedantvedantvedantvedantvedantvedantvedantvedantvedantvedantvedantvedantvedant\n",
      "vedantvedantvedantvedantvedantvedantvedantvedantvedantvedantvedantvedantvedantvedantvedantvedantvedantvedantvedantvedantvedantvedantvedantvedantvedantvedantvedantvedantvedantvedantvedantvedantvedantvedantvedantvedantvedantvedantvedantvedantvedantvedantvedantvedantvedantvedantvedantvedantvedantvedantvedantvedantvedantvedantvedantvedantvedantvedantvedantvedantvedantvedantvedantvedantvedantvedantvedantvedantvedantvedant\n",
      "vedantvedantvedantvedantvedantvedantvedantvedantvedantvedantvedantvedantvedantvedantvedantvedantvedantvedantvedantvedantvedantvedantvedantvedantvedantvedantvedantvedantvedantvedantvedantvedantvedantvedantvedantvedantvedantvedantvedantvedantvedantvedantvedantvedantvedantvedantvedantvedantvedantvedantvedantvedantvedantvedantvedantvedantvedantvedantvedantvedantvedantvedantvedantvedantvedantvedantvedantvedantvedantvedantvedant\n",
      "vedantvedantvedantvedantvedantvedantvedantvedantvedantvedantvedantvedantvedantvedantvedantvedantvedantvedantvedantvedantvedantvedantvedantvedantvedantvedantvedantvedantvedantvedantvedantvedantvedantvedantvedantvedantvedantvedantvedantvedantvedantvedantvedantvedantvedantvedantvedantvedantvedantvedantvedantvedantvedantvedantvedantvedantvedantvedantvedantvedantvedantvedantvedantvedantvedantvedantvedantvedantvedantvedantvedantvedant\n",
      "vedantvedantvedantvedantvedantvedantvedantvedantvedantvedantvedantvedantvedantvedantvedantvedantvedantvedantvedantvedantvedantvedantvedantvedantvedantvedantvedantvedantvedantvedantvedantvedantvedantvedantvedantvedantvedantvedantvedantvedantvedantvedantvedantvedantvedantvedantvedantvedantvedantvedantvedantvedantvedantvedantvedantvedantvedantvedantvedantvedantvedantvedantvedantvedantvedantvedantvedantvedantvedantvedantvedantvedantvedant\n",
      "vedantvedantvedantvedantvedantvedantvedantvedantvedantvedantvedantvedantvedantvedantvedantvedantvedantvedantvedantvedantvedantvedantvedantvedantvedantvedantvedantvedantvedantvedantvedantvedantvedantvedantvedantvedantvedantvedantvedantvedantvedantvedantvedantvedantvedantvedantvedantvedantvedantvedantvedantvedantvedantvedantvedantvedantvedantvedantvedantvedantvedantvedantvedantvedantvedantvedantvedantvedantvedantvedantvedantvedantvedantvedant\n",
      "vedantvedantvedantvedantvedantvedantvedantvedantvedantvedantvedantvedantvedantvedantvedantvedantvedantvedantvedantvedantvedantvedantvedantvedantvedantvedantvedantvedantvedantvedantvedantvedantvedantvedantvedantvedantvedantvedantvedantvedantvedantvedantvedantvedantvedantvedantvedantvedantvedantvedantvedantvedantvedantvedantvedantvedantvedantvedantvedantvedantvedantvedantvedantvedantvedantvedantvedantvedantvedantvedantvedantvedantvedantvedantvedant\n",
      "vedantvedantvedantvedantvedantvedantvedantvedantvedantvedantvedantvedantvedantvedantvedantvedantvedantvedantvedantvedantvedantvedantvedantvedantvedantvedantvedantvedantvedantvedantvedantvedantvedantvedantvedantvedantvedantvedantvedantvedantvedantvedantvedantvedantvedantvedantvedantvedantvedantvedantvedantvedantvedantvedantvedantvedantvedantvedantvedantvedantvedantvedantvedantvedantvedantvedantvedantvedantvedantvedantvedantvedantvedantvedantvedantvedant\n",
      "vedantvedantvedantvedantvedantvedantvedantvedantvedantvedantvedantvedantvedantvedantvedantvedantvedantvedantvedantvedantvedantvedantvedantvedantvedantvedantvedantvedantvedantvedantvedantvedantvedantvedantvedantvedantvedantvedantvedantvedantvedantvedantvedantvedantvedantvedantvedantvedantvedantvedantvedantvedantvedantvedantvedantvedantvedantvedantvedantvedantvedantvedantvedantvedantvedantvedantvedantvedantvedantvedantvedantvedantvedantvedantvedantvedantvedant\n",
      "vedantvedantvedantvedantvedantvedantvedantvedantvedantvedantvedantvedantvedantvedantvedantvedantvedantvedantvedantvedantvedantvedantvedantvedantvedantvedantvedantvedantvedantvedantvedantvedantvedantvedantvedantvedantvedantvedantvedantvedantvedantvedantvedantvedantvedantvedantvedantvedantvedantvedantvedantvedantvedantvedantvedantvedantvedantvedantvedantvedantvedantvedantvedantvedantvedantvedantvedantvedantvedantvedantvedantvedantvedantvedantvedantvedantvedantvedant\n",
      "vedantvedantvedantvedantvedantvedantvedantvedantvedantvedantvedantvedantvedantvedantvedantvedantvedantvedantvedantvedantvedantvedantvedantvedantvedantvedantvedantvedantvedantvedantvedantvedantvedantvedantvedantvedantvedantvedantvedantvedantvedantvedantvedantvedantvedantvedantvedantvedantvedantvedantvedantvedantvedantvedantvedantvedantvedantvedantvedantvedantvedantvedantvedantvedantvedantvedantvedantvedantvedantvedantvedantvedantvedantvedantvedantvedantvedantvedantvedant\n",
      "vedantvedantvedantvedantvedantvedantvedantvedantvedantvedantvedantvedantvedantvedantvedantvedantvedantvedantvedantvedantvedantvedantvedantvedantvedantvedantvedantvedantvedantvedantvedantvedantvedantvedantvedantvedantvedantvedantvedantvedantvedantvedantvedantvedantvedantvedantvedantvedantvedantvedantvedantvedantvedantvedantvedantvedantvedantvedantvedantvedantvedantvedantvedantvedantvedantvedantvedantvedantvedantvedantvedantvedantvedantvedantvedantvedantvedantvedantvedantvedant\n",
      "vedantvedantvedantvedantvedantvedantvedantvedantvedantvedantvedantvedantvedantvedantvedantvedantvedantvedantvedantvedantvedantvedantvedantvedantvedantvedantvedantvedantvedantvedantvedantvedantvedantvedantvedantvedantvedantvedantvedantvedantvedantvedantvedantvedantvedantvedantvedantvedantvedantvedantvedantvedantvedantvedantvedantvedantvedantvedantvedantvedantvedantvedantvedantvedantvedantvedantvedantvedantvedantvedantvedantvedantvedantvedantvedantvedantvedantvedantvedantvedantvedant\n",
      "vedantvedantvedantvedantvedantvedantvedantvedantvedantvedantvedantvedantvedantvedantvedantvedantvedantvedantvedantvedantvedantvedantvedantvedantvedantvedantvedantvedantvedantvedantvedantvedantvedantvedantvedantvedantvedantvedantvedantvedantvedantvedantvedantvedantvedantvedantvedantvedantvedantvedantvedantvedantvedantvedantvedantvedantvedantvedantvedantvedantvedantvedantvedantvedantvedantvedantvedantvedantvedantvedantvedantvedantvedantvedantvedantvedantvedantvedantvedantvedantvedantvedant\n",
      "vedantvedantvedantvedantvedantvedantvedantvedantvedantvedantvedantvedantvedantvedantvedantvedantvedantvedantvedantvedantvedantvedantvedantvedantvedantvedantvedantvedantvedantvedantvedantvedantvedantvedantvedantvedantvedantvedantvedantvedantvedantvedantvedantvedantvedantvedantvedantvedantvedantvedantvedantvedantvedantvedantvedantvedantvedantvedantvedantvedantvedantvedantvedantvedantvedantvedantvedantvedantvedantvedantvedantvedantvedantvedantvedantvedantvedantvedantvedantvedantvedantvedantvedant\n",
      "vedantvedantvedantvedantvedantvedantvedantvedantvedantvedantvedantvedantvedantvedantvedantvedantvedantvedantvedantvedantvedantvedantvedantvedantvedantvedantvedantvedantvedantvedantvedantvedantvedantvedantvedantvedantvedantvedantvedantvedantvedantvedantvedantvedantvedantvedantvedantvedantvedantvedantvedantvedantvedantvedantvedantvedantvedantvedantvedantvedantvedantvedantvedantvedantvedantvedantvedantvedantvedantvedantvedantvedantvedantvedantvedantvedantvedantvedantvedantvedantvedantvedantvedantvedant\n",
      "vedantvedantvedantvedantvedantvedantvedantvedantvedantvedantvedantvedantvedantvedantvedantvedantvedantvedantvedantvedantvedantvedantvedantvedantvedantvedantvedantvedantvedantvedantvedantvedantvedantvedantvedantvedantvedantvedantvedantvedantvedantvedantvedantvedantvedantvedantvedantvedantvedantvedantvedantvedantvedantvedantvedantvedantvedantvedantvedantvedantvedantvedantvedantvedantvedantvedantvedantvedantvedantvedantvedantvedantvedantvedantvedantvedantvedantvedantvedantvedantvedantvedantvedantvedantvedant\n",
      "vedantvedantvedantvedantvedantvedantvedantvedantvedantvedantvedantvedantvedantvedantvedantvedantvedantvedantvedantvedantvedantvedantvedantvedantvedantvedantvedantvedantvedantvedantvedantvedantvedantvedantvedantvedantvedantvedantvedantvedantvedantvedantvedantvedantvedantvedantvedantvedantvedantvedantvedantvedantvedantvedantvedantvedantvedantvedantvedantvedantvedantvedantvedantvedantvedantvedantvedantvedantvedantvedantvedantvedantvedantvedantvedantvedantvedantvedantvedantvedantvedantvedantvedantvedantvedantvedant\n",
      "vedantvedantvedantvedantvedantvedantvedantvedantvedantvedantvedantvedantvedantvedantvedantvedantvedantvedantvedantvedantvedantvedantvedantvedantvedantvedantvedantvedantvedantvedantvedantvedantvedantvedantvedantvedantvedantvedantvedantvedantvedantvedantvedantvedantvedantvedantvedantvedantvedantvedantvedantvedantvedantvedantvedantvedantvedantvedantvedantvedantvedantvedantvedantvedantvedantvedantvedantvedantvedantvedantvedantvedantvedantvedantvedantvedantvedantvedantvedantvedantvedantvedantvedantvedantvedantvedantvedant\n",
      "vedantvedantvedantvedantvedantvedantvedantvedantvedantvedantvedantvedantvedantvedantvedantvedantvedantvedantvedantvedantvedantvedantvedantvedantvedantvedantvedantvedantvedantvedantvedantvedantvedantvedantvedantvedantvedantvedantvedantvedantvedantvedantvedantvedantvedantvedantvedantvedantvedantvedantvedantvedantvedantvedantvedantvedantvedantvedantvedantvedantvedantvedantvedantvedantvedantvedantvedantvedantvedantvedantvedantvedantvedantvedantvedantvedantvedantvedantvedantvedantvedantvedantvedantvedantvedantvedantvedantvedant\n",
      "vedantvedantvedantvedantvedantvedantvedantvedantvedantvedantvedantvedantvedantvedantvedantvedantvedantvedantvedantvedantvedantvedantvedantvedantvedantvedantvedantvedantvedantvedantvedantvedantvedantvedantvedantvedantvedantvedantvedantvedantvedantvedantvedantvedantvedantvedantvedantvedantvedantvedantvedantvedantvedantvedantvedantvedantvedantvedantvedantvedantvedantvedantvedantvedantvedantvedantvedantvedantvedantvedantvedantvedantvedantvedantvedantvedantvedantvedantvedantvedantvedantvedantvedantvedantvedantvedantvedantvedantvedant\n",
      "vedantvedantvedantvedantvedantvedantvedantvedantvedantvedantvedantvedantvedantvedantvedantvedantvedantvedantvedantvedantvedantvedantvedantvedantvedantvedantvedantvedantvedantvedantvedantvedantvedantvedantvedantvedantvedantvedantvedantvedantvedantvedantvedantvedantvedantvedantvedantvedantvedantvedantvedantvedantvedantvedantvedantvedantvedantvedantvedantvedantvedantvedantvedantvedantvedantvedantvedantvedantvedantvedantvedantvedantvedantvedantvedantvedantvedantvedantvedantvedantvedantvedantvedantvedantvedantvedantvedantvedantvedantvedant\n",
      "vedantvedantvedantvedantvedantvedantvedantvedantvedantvedantvedantvedantvedantvedantvedantvedantvedantvedantvedantvedantvedantvedantvedantvedantvedantvedantvedantvedantvedantvedantvedantvedantvedantvedantvedantvedantvedantvedantvedantvedantvedantvedantvedantvedantvedantvedantvedantvedantvedantvedantvedantvedantvedantvedantvedantvedantvedantvedantvedantvedantvedantvedantvedantvedantvedantvedantvedantvedantvedantvedantvedantvedantvedantvedantvedantvedantvedantvedantvedantvedantvedantvedantvedantvedantvedantvedantvedantvedantvedantvedantvedant\n",
      "vedantvedantvedantvedantvedantvedantvedantvedantvedantvedantvedantvedantvedantvedantvedantvedantvedantvedantvedantvedantvedantvedantvedantvedantvedantvedantvedantvedantvedantvedantvedantvedantvedantvedantvedantvedantvedantvedantvedantvedantvedantvedantvedantvedantvedantvedantvedantvedantvedantvedantvedantvedantvedantvedantvedantvedantvedantvedantvedantvedantvedantvedantvedantvedantvedantvedantvedantvedantvedantvedantvedantvedantvedantvedantvedantvedantvedantvedantvedantvedantvedantvedantvedantvedantvedantvedantvedantvedantvedantvedantvedantvedant\n",
      "vedantvedantvedantvedantvedantvedantvedantvedantvedantvedantvedantvedantvedantvedantvedantvedantvedantvedantvedantvedantvedantvedantvedantvedantvedantvedantvedantvedantvedantvedantvedantvedantvedantvedantvedantvedantvedantvedantvedantvedantvedantvedantvedantvedantvedantvedantvedantvedantvedantvedantvedantvedantvedantvedantvedantvedantvedantvedantvedantvedantvedantvedantvedantvedantvedantvedantvedantvedantvedantvedantvedantvedantvedantvedantvedantvedantvedantvedantvedantvedantvedantvedantvedantvedantvedantvedantvedantvedantvedantvedantvedantvedantvedant\n",
      "vedantvedantvedantvedantvedantvedantvedantvedantvedantvedantvedantvedantvedantvedantvedantvedantvedantvedantvedantvedantvedantvedantvedantvedantvedantvedantvedantvedantvedantvedantvedantvedantvedantvedantvedantvedantvedantvedantvedantvedantvedantvedantvedantvedantvedantvedantvedantvedantvedantvedantvedantvedantvedantvedantvedantvedantvedantvedantvedantvedantvedantvedantvedantvedantvedantvedantvedantvedantvedantvedantvedantvedantvedantvedantvedantvedantvedantvedantvedantvedantvedantvedantvedantvedantvedantvedantvedantvedantvedantvedantvedantvedantvedantvedant\n",
      "vedantvedantvedantvedantvedantvedantvedantvedantvedantvedantvedantvedantvedantvedantvedantvedantvedantvedantvedantvedantvedantvedantvedantvedantvedantvedantvedantvedantvedantvedantvedantvedantvedantvedantvedantvedantvedantvedantvedantvedantvedantvedantvedantvedantvedantvedantvedantvedantvedantvedantvedantvedantvedantvedantvedantvedantvedantvedantvedantvedantvedantvedantvedantvedantvedantvedantvedantvedantvedantvedantvedantvedantvedantvedantvedantvedantvedantvedantvedantvedantvedantvedantvedantvedantvedantvedantvedantvedantvedantvedantvedantvedantvedantvedantvedant\n",
      "vedantvedantvedantvedantvedantvedantvedantvedantvedantvedantvedantvedantvedantvedantvedantvedantvedantvedantvedantvedantvedantvedantvedantvedantvedantvedantvedantvedantvedantvedantvedantvedantvedantvedantvedantvedantvedantvedantvedantvedantvedantvedantvedantvedantvedantvedantvedantvedantvedantvedantvedantvedantvedantvedantvedantvedantvedantvedantvedantvedantvedantvedantvedantvedantvedantvedantvedantvedantvedantvedantvedantvedantvedantvedantvedantvedantvedantvedantvedantvedantvedantvedantvedantvedantvedantvedantvedantvedantvedantvedantvedantvedantvedantvedantvedantvedant\n",
      "vedantvedantvedantvedantvedantvedantvedantvedantvedantvedantvedantvedantvedantvedantvedantvedantvedantvedantvedantvedantvedantvedantvedantvedantvedantvedantvedantvedantvedantvedantvedantvedantvedantvedantvedantvedantvedantvedantvedantvedantvedantvedantvedantvedantvedantvedantvedantvedantvedantvedantvedantvedantvedantvedantvedantvedantvedantvedantvedantvedantvedantvedantvedantvedantvedantvedantvedantvedantvedantvedantvedantvedantvedantvedantvedantvedantvedantvedantvedantvedantvedantvedantvedantvedantvedantvedantvedantvedantvedantvedantvedantvedantvedantvedantvedantvedantvedant\n",
      "vedantvedantvedantvedantvedantvedantvedantvedantvedantvedantvedantvedantvedantvedantvedantvedantvedantvedantvedantvedantvedantvedantvedantvedantvedantvedantvedantvedantvedantvedantvedantvedantvedantvedantvedantvedantvedantvedantvedantvedantvedantvedantvedantvedantvedantvedantvedantvedantvedantvedantvedantvedantvedantvedantvedantvedantvedantvedantvedantvedantvedantvedantvedantvedantvedantvedantvedantvedantvedantvedantvedantvedantvedantvedantvedantvedantvedantvedantvedantvedantvedantvedantvedantvedantvedantvedantvedantvedantvedantvedantvedantvedantvedantvedantvedantvedantvedantvedant\n",
      "vedantvedantvedantvedantvedantvedantvedantvedantvedantvedantvedantvedantvedantvedantvedantvedantvedantvedantvedantvedantvedantvedantvedantvedantvedantvedantvedantvedantvedantvedantvedantvedantvedantvedantvedantvedantvedantvedantvedantvedantvedantvedantvedantvedantvedantvedantvedantvedantvedantvedantvedantvedantvedantvedantvedantvedantvedantvedantvedantvedantvedantvedantvedantvedantvedantvedantvedantvedantvedantvedantvedantvedantvedantvedantvedantvedantvedantvedantvedantvedantvedantvedantvedantvedantvedantvedantvedantvedantvedantvedantvedantvedantvedantvedantvedantvedantvedantvedantvedant\n"
     ]
    },
    {
     "ename": "NameError",
     "evalue": "name 'name2' is not defined",
     "output_type": "error",
     "traceback": [
      "\u001b[1;31m---------------------------------------------------------------------------\u001b[0m",
      "\u001b[1;31mNameError\u001b[0m                                 Traceback (most recent call last)",
      "Cell \u001b[1;32mIn[87], line 6\u001b[0m\n\u001b[0;32m      4\u001b[0m     \u001b[38;5;28mprint\u001b[39m(name\u001b[38;5;241m*\u001b[39mi)\n\u001b[0;32m      5\u001b[0m \u001b[38;5;28;01mfor\u001b[39;00m j \u001b[38;5;129;01min\u001b[39;00m \u001b[38;5;28mrange\u001b[39m(\u001b[38;5;241m100\u001b[39m,\u001b[38;5;241m2\u001b[39m,\u001b[38;5;241m-\u001b[39m\u001b[38;5;241m1\u001b[39m):\n\u001b[1;32m----> 6\u001b[0m     \u001b[38;5;28mprint\u001b[39m(name2\u001b[38;5;241m*\u001b[39mj)\n",
      "\u001b[1;31mNameError\u001b[0m: name 'name2' is not defined"
     ]
    }
   ],
   "source": [
    "#print the name 3rs ,4th and 5th times \n",
    "name = \"vedant\"\n",
    "for i in range(2,100):\n",
    "    print(name*i)\n",
    "for j in range(100,2,-1):\n",
    "    print(name2*j)"
   ]
  },
  {
   "cell_type": "code",
   "execution_count": 3,
   "id": "e9d844c5-738b-4327-95a1-b7e27888942f",
   "metadata": {},
   "outputs": [
    {
     "name": "stdout",
     "output_type": "stream",
     "text": [
      "d  #R  #I  #S  #H  #Y  #A  #M  #"
     ]
    }
   ],
   "source": [
    "movie =\"Drishyam\"\n",
    "for letter in movie:\n",
    "    print(letter.swapcase(),end =\"  #\")"
   ]
  },
  {
   "cell_type": "code",
   "execution_count": null,
   "id": "be1a0f5f-5e69-4178-8380-fb5511b3df15",
   "metadata": {},
   "outputs": [],
   "source": [
    "for letter in movie:\n",
    "    print(letter.upper(),end =\" ,\")"
   ]
  },
  {
   "cell_type": "code",
   "execution_count": null,
   "id": "336a2ad2-a850-4c10-ab34-747364633ee3",
   "metadata": {},
   "outputs": [],
   "source": [
    "for letter in movie:\n",
    "    print(letter.capitalize())"
   ]
  },
  {
   "cell_type": "code",
   "execution_count": 5,
   "id": "6b260b4d-15f3-4275-9c9f-1c39c8346111",
   "metadata": {},
   "outputs": [
    {
     "name": "stdout",
     "output_type": "stream",
     "text": [
      "D    7r    7i    7s    7h    7y    7a    7m    7"
     ]
    }
   ],
   "source": [
    "for letter in movie:\n",
    "    print(letter,\"   \",end=\"7\")"
   ]
  },
  {
   "cell_type": "code",
   "execution_count": null,
   "id": "9b967d88-d3ef-4f2b-9b76-8ee528d8e435",
   "metadata": {},
   "outputs": [],
   "source": [
    "#program to find out  the odd & even number "
   ]
  },
  {
   "cell_type": "code",
   "execution_count": null,
   "id": "5c98eaf1-faba-4ba3-b2ac-ba1578f98c96",
   "metadata": {},
   "outputs": [],
   "source": [
    "for i in range(1,10):\n",
    "    if i%2 ==0:\n",
    "        print(i,\"is even number \")\n",
    "    else:\n",
    "        print(i,\"id odd number \")"
   ]
  },
  {
   "cell_type": "code",
   "execution_count": null,
   "id": "aa646dab-574c-462d-bc9c-5e7314d96ef7",
   "metadata": {},
   "outputs": [],
   "source": [
    "for i in range(1,10):\n",
    "    print(i,i*2)"
   ]
  },
  {
   "cell_type": "code",
   "execution_count": null,
   "id": "d9dacfe5-6225-43da-855b-c84491479758",
   "metadata": {},
   "outputs": [],
   "source": [
    "print(\"even numbers\")\n",
    "for i in range(1,11):\n",
    "    if i%2 ==0:\n",
    "        print(i,end =\"   \")\n",
    "        \n",
    "print(\"     \")\n",
    "print(\"Odd numbers\")\n",
    "for j in range(1,11):\n",
    "    if j%2 != 0:\n",
    "        print(j,end =\"   \")\n"
   ]
  },
  {
   "cell_type": "code",
   "execution_count": 9,
   "id": "268721b1-7b5a-44a6-9082-496d390b54d0",
   "metadata": {},
   "outputs": [
    {
     "name": "stdout",
     "output_type": "stream",
     "text": [
      "dddd  aaaa  tttt  aaaa  ssss  cccc  iiii  eeee  nnnn  cccc  eeee  "
     ]
    }
   ],
   "source": [
    "for letter in \"datascience\":\n",
    "    print(letter*4,end =\"  \")"
   ]
  },
  {
   "cell_type": "code",
   "execution_count": null,
   "id": "b1af0299-369c-4380-8940-3080a119e0df",
   "metadata": {},
   "outputs": [],
   "source": [
    "len(\"my name\")"
   ]
  },
  {
   "cell_type": "code",
   "execution_count": null,
   "id": "f1af3863-c962-4d6a-ad6c-28aaa3c48618",
   "metadata": {},
   "outputs": [],
   "source": [
    "len(\"vedant\")"
   ]
  },
  {
   "cell_type": "code",
   "execution_count": null,
   "id": "c2582d5b-3b51-4948-bf21-98567d494795",
   "metadata": {},
   "outputs": [],
   "source": [
    "len(\"name\")"
   ]
  },
  {
   "cell_type": "markdown",
   "id": "1a181685-857e-40cf-a789-1ce47eb84e0d",
   "metadata": {},
   "source": [
    "# list in python"
   ]
  },
  {
   "cell_type": "code",
   "execution_count": null,
   "id": "93880b23-9aff-4d9e-b607-eab44f4b057d",
   "metadata": {},
   "outputs": [],
   "source": [
    "marks =[10,30,60,50]"
   ]
  },
  {
   "cell_type": "code",
   "execution_count": null,
   "id": "e2e3308f-c4f7-4c34-9f6d-a6816e8277b9",
   "metadata": {},
   "outputs": [],
   "source": [
    "marks"
   ]
  },
  {
   "cell_type": "code",
   "execution_count": null,
   "id": "47774211-ba8d-4c73-a021-2cea628664da",
   "metadata": {},
   "outputs": [],
   "source": [
    "type(marks)"
   ]
  },
  {
   "cell_type": "code",
   "execution_count": null,
   "id": "25409a53-6415-4ecf-898b-734bb0649d19",
   "metadata": {},
   "outputs": [],
   "source": [
    "lst =[1.2,6.7]\n",
    "type(lst)"
   ]
  },
  {
   "cell_type": "raw",
   "id": "6a36b709-f0a7-4202-8ee4-20ea55046d25",
   "metadata": {},
   "source": []
  },
  {
   "cell_type": "markdown",
   "id": "7e390e6e-c1cf-4f45-98e5-b417e5e1b510",
   "metadata": {},
   "source": [
    "dir(lst)"
   ]
  },
  {
   "cell_type": "code",
   "execution_count": 233,
   "id": "c72539d5-5fb4-4b12-b6a4-f6cea2fac84e",
   "metadata": {},
   "outputs": [
    {
     "data": {
      "text/plain": [
       "6"
      ]
     },
     "execution_count": 233,
     "metadata": {},
     "output_type": "execute_result"
    }
   ],
   "source": [
    "len(marks)"
   ]
  },
  {
   "cell_type": "code",
   "execution_count": null,
   "id": "67907a6f-831b-4a7a-a7df-695ceac01b9b",
   "metadata": {},
   "outputs": [],
   "source": [
    "s1 =marks.sort()"
   ]
  },
  {
   "cell_type": "raw",
   "id": "f1b45003-a4d5-4624-9e7c-6af084e65efe",
   "metadata": {},
   "source": [
    "print(s1)"
   ]
  },
  {
   "cell_type": "code",
   "execution_count": null,
   "id": "9743da9d-0e69-4a4b-8a57-68df6b5911f0",
   "metadata": {},
   "outputs": [],
   "source": [
    "s1 =sorted(marks)"
   ]
  },
  {
   "cell_type": "code",
   "execution_count": null,
   "id": "09138625-6c4b-4ee6-a36f-fabb3d9539a3",
   "metadata": {},
   "outputs": [],
   "source": [
    "marks.sort()"
   ]
  },
  {
   "cell_type": "code",
   "execution_count": null,
   "id": "0f280987-9447-4bef-a792-0e1083389ee5",
   "metadata": {},
   "outputs": [],
   "source": [
    "marks"
   ]
  },
  {
   "cell_type": "code",
   "execution_count": null,
   "id": "5ffb1cc2-b4f7-4a24-a74d-607a54e4dc44",
   "metadata": {},
   "outputs": [],
   "source": [
    "sorted(\"vedant\")\n"
   ]
  },
  {
   "cell_type": "code",
   "execution_count": 118,
   "id": "d17298b1-f93a-413d-9b48-97a031022c8e",
   "metadata": {},
   "outputs": [],
   "source": [
    "marks.append(35)"
   ]
  },
  {
   "cell_type": "code",
   "execution_count": 120,
   "id": "a217c1c0-19a0-4d53-bebc-9f73cada0eb4",
   "metadata": {},
   "outputs": [
    {
     "data": {
      "text/plain": [
       "[10, 30, 50, 60, 35]"
      ]
     },
     "execution_count": 120,
     "metadata": {},
     "output_type": "execute_result"
    }
   ],
   "source": [
    "marks"
   ]
  },
  {
   "cell_type": "code",
   "execution_count": 124,
   "id": "c62c55d6-a6ed-4bc7-96d5-535417bb6bf1",
   "metadata": {},
   "outputs": [
    {
     "data": {
      "text/plain": [
       "[60, 50, 35, 30, 10]"
      ]
     },
     "execution_count": 124,
     "metadata": {},
     "output_type": "execute_result"
    }
   ],
   "source": [
    "sorted(marks,reverse =True)"
   ]
  },
  {
   "cell_type": "code",
   "execution_count": 126,
   "id": "87d3ac94-a36a-46a2-8565-d10967805de4",
   "metadata": {},
   "outputs": [],
   "source": [
    "marks.insert(2,35)"
   ]
  },
  {
   "cell_type": "code",
   "execution_count": 128,
   "id": "deadd3a0-6b4f-4ab7-bceb-e06b335870ca",
   "metadata": {},
   "outputs": [
    {
     "data": {
      "text/plain": [
       "[10, 30, 35, 50, 60, 35]"
      ]
     },
     "execution_count": 128,
     "metadata": {},
     "output_type": "execute_result"
    }
   ],
   "source": [
    "marks"
   ]
  },
  {
   "cell_type": "code",
   "execution_count": 130,
   "id": "4fffefaf-b13c-4305-8d07-420504dcaff1",
   "metadata": {},
   "outputs": [
    {
     "data": {
      "text/plain": [
       "True"
      ]
     },
     "execution_count": 130,
     "metadata": {},
     "output_type": "execute_result"
    }
   ],
   "source": [
    "30 in marks"
   ]
  },
  {
   "cell_type": "code",
   "execution_count": 132,
   "id": "84324aac-33ae-4c42-b105-ddd9ccba0b4a",
   "metadata": {},
   "outputs": [
    {
     "data": {
      "text/plain": [
       "False"
      ]
     },
     "execution_count": 132,
     "metadata": {},
     "output_type": "execute_result"
    }
   ],
   "source": [
    "20 in marks "
   ]
  },
  {
   "cell_type": "code",
   "execution_count": 136,
   "id": "6b0a0eb1-4faa-4570-829f-36e95bfba510",
   "metadata": {},
   "outputs": [
    {
     "name": "stdout",
     "output_type": "stream",
     "text": [
      "[1, 2, 3, 4, 3, 4, 5, 6]\n"
     ]
    }
   ],
   "source": [
    "list1 =[1,2,3,4]\n",
    "list2 =[3,4,5,6]\n",
    "print(list1+list2)"
   ]
  },
  {
   "cell_type": "code",
   "execution_count": 146,
   "id": "55e9d725-ad75-4a80-bdbf-2e7c78e69ea1",
   "metadata": {},
   "outputs": [],
   "source": [
    "stationary =[\"pen\",\"pencil\",\"rubber\"]"
   ]
  },
  {
   "cell_type": "code",
   "execution_count": 150,
   "id": "fbddc371-43ed-4d17-9c75-caf11b85ab6f",
   "metadata": {},
   "outputs": [],
   "source": [
    "stationary.append([\"notebook\",\"book\"])"
   ]
  },
  {
   "cell_type": "code",
   "execution_count": 198,
   "id": "322c50e2-bf41-4bba-81aa-c067ea071fb4",
   "metadata": {},
   "outputs": [
    {
     "data": {
      "text/plain": [
       "['pen']"
      ]
     },
     "execution_count": 198,
     "metadata": {},
     "output_type": "execute_result"
    }
   ],
   "source": [
    "stationary"
   ]
  },
  {
   "cell_type": "code",
   "execution_count": 176,
   "id": "07de736f-186d-45bf-bb5c-d650f6758a19",
   "metadata": {},
   "outputs": [
    {
     "data": {
      "text/plain": [
       "4"
      ]
     },
     "execution_count": 176,
     "metadata": {},
     "output_type": "execute_result"
    }
   ],
   "source": [
    "list1.pop(1) # pop  remobethe first element permentaly"
   ]
  },
  {
   "cell_type": "code",
   "execution_count": 174,
   "id": "ed315075-2053-49b1-8455-471b67086cda",
   "metadata": {},
   "outputs": [
    {
     "data": {
      "text/plain": [
       "[1, 4]"
      ]
     },
     "execution_count": 174,
     "metadata": {},
     "output_type": "execute_result"
    }
   ],
   "source": [
    "list1"
   ]
  },
  {
   "cell_type": "code",
   "execution_count": 178,
   "id": "a862c000-0f6a-4f55-9a5d-58445a48a110",
   "metadata": {},
   "outputs": [],
   "source": [
    "list1.extend(list2)"
   ]
  },
  {
   "cell_type": "code",
   "execution_count": 180,
   "id": "f6312a30-5426-45c8-a73c-91a6315092c9",
   "metadata": {},
   "outputs": [
    {
     "data": {
      "text/plain": [
       "[1, 3, 4, 5, 6]"
      ]
     },
     "execution_count": 180,
     "metadata": {},
     "output_type": "execute_result"
    }
   ],
   "source": [
    "list1"
   ]
  },
  {
   "cell_type": "code",
   "execution_count": 182,
   "id": "17c0adbc-ad2c-4174-86c8-6f12ee006fc5",
   "metadata": {},
   "outputs": [],
   "source": [
    "list1.extend([\" color\",\"pages\"])"
   ]
  },
  {
   "cell_type": "code",
   "execution_count": 186,
   "id": "84bbbb47-66d5-49e4-a8a2-a489a3f9661f",
   "metadata": {},
   "outputs": [
    {
     "data": {
      "text/plain": [
       "[1, 3, 4, 5, 6, ' color', 'pages']"
      ]
     },
     "execution_count": 186,
     "metadata": {},
     "output_type": "execute_result"
    }
   ],
   "source": [
    "list1"
   ]
  },
  {
   "cell_type": "code",
   "execution_count": 202,
   "id": "0b1d0d0b-451f-4fb4-a225-732a0e27239f",
   "metadata": {},
   "outputs": [],
   "source": [
    "stationary.remove(\"pen\")"
   ]
  },
  {
   "cell_type": "code",
   "execution_count": 204,
   "id": "c3a75f45-f841-4e63-be87-2ec27c50e093",
   "metadata": {},
   "outputs": [
    {
     "data": {
      "text/plain": [
       "[]"
      ]
     },
     "execution_count": 204,
     "metadata": {},
     "output_type": "execute_result"
    }
   ],
   "source": [
    "stationary"
   ]
  },
  {
   "cell_type": "code",
   "execution_count": 206,
   "id": "4269004d-4340-483f-a353-6e6424e06669",
   "metadata": {},
   "outputs": [],
   "source": [
    "#checking whether the given number is positive or negative "
   ]
  },
  {
   "cell_type": "code",
   "execution_count": 208,
   "id": "41d948b3-41f3-40d4-b906-34ac33be780a",
   "metadata": {},
   "outputs": [
    {
     "name": "stdout",
     "output_type": "stream",
     "text": [
      "positive number\n"
     ]
    }
   ],
   "source": [
    "num =5\n",
    "if num>0:\n",
    "    print(\"positive number\")\n",
    "elif num==0:\n",
    "    print(\" number is zero\")\n",
    "else:\n",
    "    print(\"number is negative\")\n"
   ]
  },
  {
   "cell_type": "code",
   "execution_count": 210,
   "id": "2cfb46fe-7b78-4fd8-ad1a-40b8411c98e4",
   "metadata": {},
   "outputs": [
    {
     "name": "stdin",
     "output_type": "stream",
     "text": [
      "enter your name vedant\n"
     ]
    }
   ],
   "source": [
    "first_name =input(\"enter your name\")"
   ]
  },
  {
   "cell_type": "code",
   "execution_count": 212,
   "id": "6866492e-7c0b-40ea-99cb-51f069be9572",
   "metadata": {},
   "outputs": [
    {
     "data": {
      "text/plain": [
       "'vedant'"
      ]
     },
     "execution_count": 212,
     "metadata": {},
     "output_type": "execute_result"
    }
   ],
   "source": [
    "first_name"
   ]
  },
  {
   "cell_type": "code",
   "execution_count": 214,
   "id": "01501838-9428-4a27-9281-a539476f0d06",
   "metadata": {},
   "outputs": [
    {
     "name": "stdin",
     "output_type": "stream",
     "text": [
      "enter your last name pawar\n"
     ]
    }
   ],
   "source": [
    "surname =input(\"enter your last name\")"
   ]
  },
  {
   "cell_type": "code",
   "execution_count": 216,
   "id": "59731aa3-9f32-48b2-875c-842de827372d",
   "metadata": {},
   "outputs": [
    {
     "name": "stdin",
     "output_type": "stream",
     "text": [
      "enter your age  12\n"
     ]
    }
   ],
   "source": [
    "age = int(input(\"enter your age \"))"
   ]
  },
  {
   "cell_type": "code",
   "execution_count": 218,
   "id": "bb8686cc-3d74-4e01-a782-6879d310a61c",
   "metadata": {},
   "outputs": [
    {
     "data": {
      "text/plain": [
       "12"
      ]
     },
     "execution_count": 218,
     "metadata": {},
     "output_type": "execute_result"
    }
   ],
   "source": [
    "age"
   ]
  },
  {
   "cell_type": "code",
   "execution_count": 225,
   "id": "4bf689a4-ac1e-453d-b36b-d0306ee05a0b",
   "metadata": {},
   "outputs": [
    {
     "name": "stdout",
     "output_type": "stream",
     "text": [
      "hii hii hii hii hii hii hii hii hii "
     ]
    }
   ],
   "source": [
    "for i in range(1,10):\n",
    "    print(\"hii\",end=\" \" )\n"
   ]
  },
  {
   "cell_type": "code",
   "execution_count": 247,
   "id": "09f97979-3ec1-4f7f-ba58-766d206cd318",
   "metadata": {},
   "outputs": [
    {
     "name": "stdout",
     "output_type": "stream",
     "text": [
      "average 15\n",
      "excellent 89\n",
      "average 46\n",
      "failed 78\n"
     ]
    }
   ],
   "source": [
    "marks =[15,89,46,78]\n",
    "for i in marks:\n",
    "    if i>=89:\n",
    "        print(\"excellent\",i)\n",
    "    elif i<70:\n",
    "        \n",
    "        print(\"average\",i)\n",
    "    else:\n",
    "        print(\"failed\",i)\n",
    "\n",
    "\n",
    "\n",
    "\n"
   ]
  },
  {
   "cell_type": "markdown",
   "id": "e9107ee3-fb71-4329-93ee-bd5d24ff7631",
   "metadata": {},
   "source": [
    "# while loop in python "
   ]
  },
  {
   "cell_type": "code",
   "execution_count": null,
   "id": "5dbd425a-7f86-4a97-a72d-29d3f12868c1",
   "metadata": {},
   "outputs": [],
   "source": [
    "i =0  # intialise the while loop\n",
    "while i<5: # it repeated multiple numbers of time until the condition becomes false \n",
    "    print(\"vedant\")\n",
    "    i=i+1"
   ]
  },
  {
   "cell_type": "code",
   "execution_count": 3,
   "id": "6be24c62-2586-4d1a-9fcf-a7d57cdb67c6",
   "metadata": {},
   "outputs": [],
   "source": [
    "def sq(x):\n",
    "    return x*x"
   ]
  },
  {
   "cell_type": "code",
   "execution_count": 7,
   "id": "99291773-ca3c-40be-85d2-ba65a39c4a6e",
   "metadata": {},
   "outputs": [
    {
     "data": {
      "text/plain": [
       "16"
      ]
     },
     "execution_count": 7,
     "metadata": {},
     "output_type": "execute_result"
    }
   ],
   "source": [
    "sq(4)"
   ]
  },
  {
   "cell_type": "code",
   "execution_count": 9,
   "id": "a7291089-297a-40a9-9c9d-9f5165fae388",
   "metadata": {},
   "outputs": [],
   "source": [
    "def cal(a,b,c):\n",
    "    return a*b*c\n",
    "    "
   ]
  },
  {
   "cell_type": "code",
   "execution_count": 11,
   "id": "75eb2eca-46da-4ef6-b1f6-76366319c4b7",
   "metadata": {},
   "outputs": [
    {
     "data": {
      "text/plain": [
       "2520"
      ]
     },
     "execution_count": 11,
     "metadata": {},
     "output_type": "execute_result"
    }
   ],
   "source": [
    "cal(12,14,15)"
   ]
  },
  {
   "cell_type": "code",
   "execution_count": null,
   "id": "082c5214-7011-4c2e-8ee4-2398ef38b7fb",
   "metadata": {},
   "outputs": [],
   "source": []
  }
 ],
 "metadata": {
  "kernelspec": {
   "display_name": "Python 3 (ipykernel)",
   "language": "python",
   "name": "python3"
  },
  "language_info": {
   "codemirror_mode": {
    "name": "ipython",
    "version": 3
   },
   "file_extension": ".py",
   "mimetype": "text/x-python",
   "name": "python",
   "nbconvert_exporter": "python",
   "pygments_lexer": "ipython3",
   "version": "3.12.4"
  }
 },
 "nbformat": 4,
 "nbformat_minor": 5
}
